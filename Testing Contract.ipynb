{
 "cells": [
  {
   "cell_type": "code",
   "execution_count": null,
   "id": "cbd3c7c4-4999-4a11-a22b-f555c73e62a7",
   "metadata": {
    "ExecuteTime": {
     "end_time": "2024-11-13T18:14:03.554752Z",
     "start_time": "2024-11-13T18:14:03.507931Z"
    }
   },
   "outputs": [],
   "source": [
    "from web3 import Web3\n",
    "from web3.exceptions import ContractLogicError, Web3RPCError\n",
    "import json\n",
    "from datetime import datetime\n",
    "import boto3\n",
    "from botocore.exceptions import ClientError\n",
    "from decimal import Decimal\n",
    "import os \n",
    "import requests"
   ]
  },
  {
   "cell_type": "code",
   "execution_count": 13,
   "id": "eef64e52-75e5-453a-9a73-fb40902e7d81",
   "metadata": {
    "ExecuteTime": {
     "end_time": "2024-11-13T18:14:06.038288Z",
     "start_time": "2024-11-13T18:14:06.028604Z"
    }
   },
   "outputs": [],
   "source": [
    "os.getenv('blockchain_class_access_key')"
   ]
  },
  {
   "cell_type": "code",
   "execution_count": 3,
   "id": "ed72c2e5-5091-4ea5-8217-73038aeb5e0b",
   "metadata": {
    "ExecuteTime": {
     "end_time": "2024-11-13T18:14:10.060232Z",
     "start_time": "2024-11-13T18:14:10.055724Z"
    }
   },
   "outputs": [],
   "source": [
    "def create_receipts_table(table_name):\n",
    "    try:\n",
    "        # Check if the table already exists\n",
    "        table = dynamodb.Table(table_name)\n",
    "        table.load()  # This will raise an error if the table does not exist\n",
    "        print(f\"Table '{table_name}' already exists.\")\n",
    "    except ClientError as e:\n",
    "        # If the table doesn't exist, a ResourceNotFoundException will be raised\n",
    "        if e.response['Error']['Code'] == 'ResourceNotFoundException':\n",
    "            # Create the table if it does not exist\n",
    "            table = dynamodb.create_table(\n",
    "                TableName=table_name,\n",
    "                KeySchema=[\n",
    "                    {\n",
    "                        'AttributeName': 'transaction_hash',\n",
    "                        'KeyType': 'HASH'  # Partition key\n",
    "                    }\n",
    "                ],\n",
    "                AttributeDefinitions=[\n",
    "                    {\n",
    "                        'AttributeName': 'transaction_hash',\n",
    "                        'AttributeType': 'S'  # String type\n",
    "                    }\n",
    "                ],\n",
    "                ProvisionedThroughput={\n",
    "                    'ReadCapacityUnits': 5,\n",
    "                    'WriteCapacityUnits': 5\n",
    "                }\n",
    "            )\n",
    "            # Wait until the table exists\n",
    "            table.meta.client.get_waiter('table_exists').wait(TableName=table_name)\n",
    "            print(f\"Table '{table_name}' created successfully.\")\n",
    "        else:\n",
    "            # Handle other errors\n",
    "            print(\"Error creating table:\", e.response['Error']['Message'])\n",
    "def create_sellers_table():\n",
    "    dynamodb = boto3.resource('dynamodb', region_name='us-east-2')\n",
    "    \n",
    "    # Create the Sellers table\n",
    "    table = dynamodb.create_table(\n",
    "        TableName='Sellers',\n",
    "        KeySchema=[\n",
    "            {\n",
    "                'AttributeName': 'seller_address',\n",
    "                'KeyType': 'HASH'  # Partition key\n",
    "            }\n",
    "        ],\n",
    "        AttributeDefinitions=[\n",
    "            {\n",
    "                'AttributeName': 'seller_address',\n",
    "                'AttributeType': 'S'\n",
    "            }\n",
    "        ],\n",
    "        ProvisionedThroughput={\n",
    "            'ReadCapacityUnits': 5,\n",
    "            'WriteCapacityUnits': 5\n",
    "        }\n",
    "    )\n",
    "    \n",
    "    # Wait until the table is created\n",
    "    table.meta.client.get_waiter('table_exists').wait(TableName='Sellers')\n",
    "    print(\"Sellers table created successfully.\")"
   ]
  },
  {
   "cell_type": "code",
   "execution_count": null,
   "id": "7971729b-c86f-40d3-a4ae-530c826ef1e0",
   "metadata": {},
   "outputs": [],
   "source": []
  },
  {
   "cell_type": "code",
   "execution_count": 16,
   "id": "5f0787a8-e69a-4cb4-bbb7-d22d108d1cd6",
   "metadata": {
    "ExecuteTime": {
     "end_time": "2024-11-13T18:14:13.889289Z",
     "start_time": "2024-11-13T18:14:13.835164Z"
    }
   },
   "outputs": [],
   "source": [
    "dynamodb = boto3.resource(\n",
    "    'dynamodb',\n",
    "    region_name='us-east-2',  # Update with your region\n",
    "    aws_access_key_id=os.getenv('blockchain_class_access_key'),\n",
    "    aws_secret_access_key=os.getenv('blockchain_class_secret_key')\n",
    ")"
   ]
  },
  {
   "cell_type": "code",
   "execution_count": 17,
   "id": "14e1eb13-9674-47df-b941-9ef8e3803627",
   "metadata": {
    "ExecuteTime": {
     "end_time": "2024-11-13T18:14:15.290142Z",
     "start_time": "2024-11-13T18:14:15.284081Z"
    }
   },
   "outputs": [],
   "source": [
    "class SellersManager:\n",
    "    def __init__(self, table_name='Sellers'):\n",
    "        self.dynamodb = boto3.resource(\n",
    "            'dynamodb',\n",
    "            region_name='us-east-2',\n",
    "            aws_access_key_id=os.getenv('blockchain_class_access_key'),\n",
    "            aws_secret_access_key=os.getenv('blockchain_class_secret_key')\n",
    "        )\n",
    "        self.table = self.dynamodb.Table(table_name)\n",
    "\n",
    "    def insert_seller(self, seller_data):\n",
    "        \"\"\"\n",
    "        Inserts a new seller record into the Sellers table.\n",
    "        Expects seller_data to be a dictionary with 'seller_address' and 'seller_contract'.\n",
    "        \"\"\"\n",
    "        try:\n",
    "            response = self.table.put_item(\n",
    "                Item=seller_data,\n",
    "                ConditionExpression=\"attribute_not_exists(seller_address)\"\n",
    "            )\n",
    "            print(\"Seller inserted successfully:\", response)\n",
    "        except ClientError as e:\n",
    "            if e.response['Error']['Code'] == 'ConditionalCheckFailedException':\n",
    "                print(\"Seller already exists.\")\n",
    "            else:\n",
    "                print(\"Error inserting seller:\", e.response['Error']['Message'])\n",
    "\n",
    "    def seller_exists(self, seller_address):\n",
    "        \"\"\"\n",
    "        Checks if a seller exists in the table.\n",
    "        Returns True if the seller exists, False otherwise.\n",
    "        \"\"\"\n",
    "        try:\n",
    "            response = self.table.get_item(Key={'seller_address': seller_address})\n",
    "            return 'Item' in response  # Returns True if item exists, False otherwise\n",
    "        except ClientError as e:\n",
    "            print(\"Error checking seller existence:\", e.response['Error']['Message'])\n",
    "            return False\n",
    "    def get_all_sellers(self):\n",
    "        \"\"\"\n",
    "        Retrieves all sellers with their associated contract addresses.\n",
    "        Returns a list of dictionaries, each containing 'seller_address' and 'seller_contract_address'.\n",
    "        \"\"\"\n",
    "        try:\n",
    "            sellers = []\n",
    "            response = self.table.scan(\n",
    "                ProjectionExpression=\"seller_address, seller_contract_address\"\n",
    "            )\n",
    "            \n",
    "            # Append the first batch of items\n",
    "            sellers.extend(response.get('Items', []))\n",
    "            \n",
    "            # Continue fetching if there are more items (pagination)\n",
    "            while 'LastEvaluatedKey' in response:\n",
    "                response = self.table.scan(\n",
    "                    ProjectionExpression=\"seller_address, seller_contract_address\",\n",
    "                    ExclusiveStartKey=response['LastEvaluatedKey']\n",
    "                )\n",
    "                sellers.extend(response.get('Items', []))\n",
    "                \n",
    "            print(f\"Retrieved {len(sellers)} sellers.\")\n",
    "            return sellers\n",
    "        except ClientError as e:\n",
    "            print(f\"Error retrieving sellers: {e.response['Error']['Message']}\")\n",
    "            return []"
   ]
  },
  {
   "cell_type": "code",
   "execution_count": 18,
   "id": "4c5043fb-a1d8-47c5-b46a-1bcb3af8333e",
   "metadata": {
    "ExecuteTime": {
     "end_time": "2024-11-13T18:14:18.759234Z",
     "start_time": "2024-11-13T18:14:18.744736Z"
    }
   },
   "outputs": [],
   "source": [
    "class ReceiptManager:\n",
    "    def __init__(self,table_name):\n",
    "        self.dynamodb = boto3.resource(\n",
    "            'dynamodb',\n",
    "            region_name='us-east-2',  # Update with your region\n",
    "            aws_access_key_id=os.getenv('blockchain_class_access_key'),\n",
    "            aws_secret_access_key=os.getenv('blockchain_class_secret_key')\n",
    "        )\n",
    "        # create_receipts_table(table_name)\n",
    "        self.table = self.dynamodb.Table(table_name)\n",
    "\n",
    "    def insert_receipt(self, receipt_details):\n",
    "        \"\"\"Inserts a new receipt record in DynamoDB.\"\"\"\n",
    "        try:\n",
    "            if 'amount' in receipt_details:\n",
    "                receipt_details['amount'] = Decimal(str(receipt_details['amount']))\n",
    "            \n",
    "            # Insert the record, only if transaction_hash doesn't already exist\n",
    "            response = self.table.put_item(\n",
    "                Item=receipt_details\n",
    "            )\n",
    "            print(\"Data saved successfully:\", response)\n",
    "        except ClientError as e:\n",
    "            print(\"Error saving data to DynamoDB:\", e.response['Error']['Message'])\n",
    "\n",
    "    def search_by_transaction_id(self, transaction_id):\n",
    "        \"\"\"Searches for a receipt by transaction ID (primary key).\"\"\"\n",
    "        try:\n",
    "            response = self.table.get_item(Key={'transaction_hash': transaction_id})\n",
    "            return response.get('Item')\n",
    "        except ClientError as e:\n",
    "            print(f\"Failed to retrieve receipt: {e.response['Error']['Message']}\")\n",
    "            return None\n",
    "\n",
    "    def search_by_buyer_address(self, buyer_address, filter_by=None, sort_by=None, ascending=True):\n",
    "        \"\"\"Searches receipts by buyer address with optional filtering and sorting.\"\"\"\n",
    "        return self._search_by_attribute('buyer_address', buyer_address, filter_by, sort_by, ascending)\n",
    "\n",
    "    def search_by_seller_address(self, seller_address, filter_by=None, sort_by=None, ascending=True):\n",
    "        \"\"\"Searches receipts by seller address with optional filtering and sorting.\"\"\"\n",
    "        return self._search_by_attribute('seller_contract_address', seller_address, filter_by, sort_by, ascending)\n",
    "\n",
    "    def _search_by_attribute(self, attribute, value, filter_by=None, sort_by=None, ascending=True):\n",
    "        \"\"\"Internal method to search by a specific attribute (buyer or seller) with filtering and sorting.\"\"\"\n",
    "        try:\n",
    "            # Query using the specified attribute\n",
    "            response = self.table.scan(\n",
    "                FilterExpression=boto3.dynamodb.conditions.Attr(attribute).eq(value)\n",
    "            )\n",
    "            items = response.get('Items', [])\n",
    "            \n",
    "            # Filter items if a filter criterion is provided\n",
    "            if filter_by:\n",
    "                if 'amount' in filter_by:\n",
    "                    amount_filter = Decimal(str(filter_by['amount']))\n",
    "                    items = [item for item in items if item['amount'] == amount_filter]\n",
    "                if 'purchase_time' in filter_by:\n",
    "                    items = [item for item in items if item['purchase_time'] == filter_by['purchase_time']]\n",
    "\n",
    "            # Sort items if a sorting criterion is provided\n",
    "            if sort_by:\n",
    "                reverse_order = not ascending\n",
    "                if sort_by == 'amount':\n",
    "                    items.sort(key=lambda x: x['amount'], reverse=reverse_order)\n",
    "                elif sort_by == 'purchase_time':\n",
    "                    items.sort(key=lambda x: x['purchase_time'], reverse=reverse_order)\n",
    "            \n",
    "            return items\n",
    "        except ClientError as e:\n",
    "            print(f\"Failed to search receipts: {e.response['Error']['Message']}\")\n",
    "            return None\n",
    "    def get_all_transactions(self,max_number_of_pages = 5):\n",
    "        \"\"\"Retrieves all transactions from the DynamoDB table.\"\"\"\n",
    "        try:\n",
    "            # Initialize an empty list to store all transactions\n",
    "            transactions = []\n",
    "\n",
    "            # Use the scan operation to retrieve all items\n",
    "            response = self.table.scan()\n",
    "\n",
    "            # Append the first batch of items to the list\n",
    "            transactions.extend(response.get('Items', []))\n",
    "\n",
    "            # Continue fetching if there are more items\n",
    "            page = 1\n",
    "            while 'LastEvaluatedKey' in response:\n",
    "                if page>max_number_of_pages:\n",
    "                    break\n",
    "                response = self.table.scan(ExclusiveStartKey=response['LastEvaluatedKey'])\n",
    "                transactions.extend(response.get('Items', []))\n",
    "                page+=1\n",
    "                \n",
    "            print(f\"Retrieved {len(transactions)} transactions.\")\n",
    "            return transactions\n",
    "        except ClientError as e:\n",
    "            print(f\"Error retrieving transactions: {e.response['Error']['Message']}\")\n",
    "            return None\n",
    "    def get_unique_sellers(self):\n",
    "        \"\"\"Retrieves all unique seller addresses with their associated contract addresses.\"\"\"\n",
    "        try:\n",
    "            unique_sellers = set()\n",
    "            sellers = []\n",
    "            response = self.table.scan(\n",
    "                ProjectionExpression=\"seller_address, seller_contract_address\"\n",
    "            )\n",
    "            \n",
    "            for item in response.get('Items', []):\n",
    "                seller_info = (item['seller_address'], item['seller_contract_address'])\n",
    "                if seller_info not in unique_sellers:\n",
    "                    unique_sellers.add(seller_info)\n",
    "                    sellers.append({'seller_address': item['seller_address'], 'seller_contract_address': item['seller_contract_address']})\n",
    "                \n",
    "            while 'LastEvaluatedKey' in response:\n",
    "                response = self.table.scan(\n",
    "                    ProjectionExpression=\"seller_address, seller_contract_address\",\n",
    "                    ExclusiveStartKey=response['LastEvaluatedKey']\n",
    "                )\n",
    "                for item in response.get('Items', []):\n",
    "                    seller_info = (item['seller_address'], item['seller_contract_address'])\n",
    "                    if seller_info not in unique_sellers:\n",
    "                        unique_sellers.add(seller_info)\n",
    "                        sellers.append({'seller_address': item['seller_address'], 'seller_contract_address': item['seller_contract_address']})\n",
    "\n",
    "            print(f\"Found {len(sellers)} unique sellers.\")\n",
    "            return sellers\n",
    "        except ClientError as e:\n",
    "            print(f\"Error retrieving unique sellers: {e.response['Error']['Message']}\")\n",
    "            return []\n",
    "\n",
    "    def get_unique_buyers(self):\n",
    "        \"\"\"Retrieves all unique buyer addresses.\"\"\"\n",
    "        try:\n",
    "            unique_buyers = set()\n",
    "            buyers = []\n",
    "            response = self.table.scan(\n",
    "                ProjectionExpression=\"buyer_address\"\n",
    "            )\n",
    "            \n",
    "            for item in response.get('Items', []):\n",
    "                buyer_address = item['buyer_address']\n",
    "                if buyer_address not in unique_buyers:\n",
    "                    unique_buyers.add(buyer_address)\n",
    "                    buyers.append(buyer_address)\n",
    "                \n",
    "            while 'LastEvaluatedKey' in response:\n",
    "                response = self.table.scan(\n",
    "                    ProjectionExpression=\"buyer_address\",\n",
    "                    ExclusiveStartKey=response['LastEvaluatedKey']\n",
    "                )\n",
    "                for item in response.get('Items', []):\n",
    "                    buyer_address = item['buyer_address']\n",
    "                    if buyer_address not in unique_buyers:\n",
    "                        unique_buyers.add(buyer_address)\n",
    "                        buyers.append(buyer_address)\n",
    "\n",
    "            print(f\"Found {len(buyers)} unique buyers.\")\n",
    "            return buyers\n",
    "        except ClientError as e:\n",
    "            print(f\"Error retrieving unique buyers: {e.response['Error']['Message']}\")\n",
    "            return []"
   ]
  },
  {
   "cell_type": "code",
   "execution_count": 19,
   "id": "4ab64d21-be64-4406-9b70-21a3ef4554a3",
   "metadata": {
    "ExecuteTime": {
     "end_time": "2024-11-13T18:14:23.947308Z",
     "start_time": "2024-11-13T18:14:23.915969Z"
    }
   },
   "outputs": [],
   "source": [
    "receipt_Dynamo_DB = ReceiptManager('Receipts')"
   ]
  },
  {
   "cell_type": "code",
   "execution_count": 20,
   "id": "bede10a8-8566-4b79-b1c1-b40c937e2b59",
   "metadata": {
    "ExecuteTime": {
     "end_time": "2024-11-13T18:14:25.173660Z",
     "start_time": "2024-11-13T18:14:25.047633Z"
    }
   },
   "outputs": [
    {
     "name": "stdout",
     "output_type": "stream",
     "text": [
      "Error retrieving unique buyers: Requested resource not found\n"
     ]
    },
    {
     "data": {
      "text/plain": [
       "[]"
      ]
     },
     "execution_count": 20,
     "metadata": {},
     "output_type": "execute_result"
    }
   ],
   "source": [
    "receipt_Dynamo_DB.get_unique_buyers()"
   ]
  },
  {
   "cell_type": "code",
   "execution_count": 9,
   "id": "d50eeff4-8b65-49df-a9e0-14ce7d3b717f",
   "metadata": {
    "ExecuteTime": {
     "end_time": "2024-11-13T18:14:27.559163Z",
     "start_time": "2024-11-13T18:14:27.532209Z"
    }
   },
   "outputs": [
    {
     "name": "stdout",
     "output_type": "stream",
     "text": [
      "Error retrieving unique sellers: Requested resource not found\n"
     ]
    },
    {
     "data": {
      "text/plain": [
       "[]"
      ]
     },
     "execution_count": 9,
     "metadata": {},
     "output_type": "execute_result"
    }
   ],
   "source": [
    "receipt_Dynamo_DB.get_unique_sellers()"
   ]
  },
  {
   "cell_type": "code",
   "execution_count": 102,
   "id": "60eb7594-0c2a-4ed7-8870-ee753b9a0ade",
   "metadata": {
    "ExecuteTime": {
     "end_time": "2024-11-13T18:14:33.684211Z",
     "start_time": "2024-11-13T18:14:33.674334Z"
    }
   },
   "outputs": [],
   "source": [
    "ganache_url = \"http://127.0.0.1:8545\"  # Default Ganache URL\n",
    "web3 = Web3(Web3.HTTPProvider(ganache_url))"
   ]
  },
  {
   "cell_type": "code",
   "execution_count": null,
   "id": "e6f813ff-df54-4853-9fca-a2486d2185c2",
   "metadata": {},
   "outputs": [],
   "source": []
  },
  {
   "cell_type": "code",
   "execution_count": 103,
   "id": "757d2096-edaa-4235-9d7c-6467c5e09548",
   "metadata": {
    "ExecuteTime": {
     "end_time": "2024-11-13T18:14:35.709858Z",
     "start_time": "2024-11-13T18:14:35.674085Z"
    }
   },
   "outputs": [],
   "source": [
    "assert web3.is_connected()"
   ]
  },
  {
   "cell_type": "code",
   "execution_count": 104,
   "id": "c0262d1d-be11-41fc-a919-88e10b00e9ee",
   "metadata": {
    "ExecuteTime": {
     "end_time": "2024-11-13T18:14:37.334499Z",
     "start_time": "2024-11-13T18:14:37.325321Z"
    }
   },
   "outputs": [],
   "source": [
    "# contract_address = \"0xb79b707E68b8e7c06A3da63f17658C108f23Fbd5\"  # Replace with your deployed contract address\n",
    "with open(\"build/contracts/ReceiptManager.json\") as f:\n",
    "    contract_json = json.load(f)\n",
    "    contract_abi = contract_json[\"abi\"]\n",
    "    contract_bytecode = contract_json[\"bytecode\"]"
   ]
  },
  {
   "cell_type": "code",
   "execution_count": 106,
   "id": "a3408849-ff8b-4ab7-97f0-1a8e8c153b02",
   "metadata": {
    "ExecuteTime": {
     "end_time": "2024-11-13T18:14:44.365838Z",
     "start_time": "2024-11-13T18:14:44.359218Z"
    }
   },
   "outputs": [],
   "source": [
    "def issue_receipt(contract_address, seller_address, buyer_address, amount_eth):\n",
    "    \"\"\"Issues a receipt for the given buyer address and amount (in Ether) using a specific contract.\"\"\"\n",
    "    # Convert amount to Wei, since Ether is the base unit in web3.py\n",
    "    amount_wei = web3.to_wei(amount_eth, 'ether')\n",
    "    \n",
    "    # Create a contract instance for the specific seller's contract address\n",
    "    seller_contract = web3.eth.contract(address=contract_address, abi=contract_abi)\n",
    "    \n",
    "    # Send the transaction to the contract's issueReceipt function\n",
    "    tx_hash = seller_contract.functions.issueReceipt(buyer_address).transact({\n",
    "        'from': buyer_address,  # Pass in the seller's address from the API\n",
    "        'value': amount_wei  # The amount to hold in escrow\n",
    "    })\n",
    "    \n",
    "    # Wait for the transaction receipt to confirm\n",
    "    tx_receipt = web3.eth.wait_for_transaction_receipt(tx_hash)\n",
    "\n",
    "    # Retrieve the actual timestamp from the block containing this transaction\n",
    "    block = web3.eth.get_block(tx_receipt['blockNumber'])\n",
    "    purchase_time = datetime.utcfromtimestamp(block['timestamp']).strftime('%Y-%m-%d %H:%M:%S')\n",
    "    \n",
    "    # Retrieve the ReceiptIssued event data from the transaction receipt\n",
    "    receipt_event = seller_contract.events.ReceiptIssued().process_log(tx_receipt.logs[0])\n",
    "    \n",
    "    # Extract the receiptIndex from the event\n",
    "    receipt_index = receipt_event['args']['receiptIndex']\n",
    "    \n",
    "    # Format the receipt object to return to the frontend\n",
    "    receipt_details = {\n",
    "        \"buyer_address\": buyer_address,\n",
    "        \"seller_address\":seller_address,\n",
    "        \"seller_contract_address\": contract_address,\n",
    "        \"amount\": amount_eth,  # Return amount in Ether for readability\n",
    "        \"purchase_time\":  purchase_time,\n",
    "        \"transaction_hash\": tx_receipt['transactionHash'].hex(),\n",
    "        \"block_number\": tx_receipt['blockNumber'],\n",
    "        \"status\": \"Success\" if tx_receipt['status'] == 1 else \"Failed\",\n",
    "        \"receipt_index\": receipt_index\n",
    "    }\n",
    "    return receipt_details\n"
   ]
  },
  {
   "cell_type": "code",
   "execution_count": 108,
   "id": "fa138c0d-0cde-4a84-b5e0-7eb3275f99c5",
   "metadata": {
    "ExecuteTime": {
     "end_time": "2024-11-13T18:14:48.013660Z",
     "start_time": "2024-11-13T18:14:48.008921Z"
    }
   },
   "outputs": [],
   "source": [
    "def decode_revert_message(error_data):\n",
    "    \"\"\"Decodes the revert reason from the error data.\"\"\"\n",
    "    # Standard error signature for revert reason\n",
    "    if error_data.startswith(\"0x08c379a0\"):\n",
    "        try:\n",
    "            # Decode the hex revert message\n",
    "            revert_reason = Web3.toText(hexstr=error_data[10:]).strip()\n",
    "            return revert_reason\n",
    "        except Exception as e:\n",
    "            return \"Revert reason decoding failed\"\n",
    "    return \"Unknown error\"\n",
    "\n",
    "def request_return(contract_address, buyer_address, receiptIndex):\n",
    "    \"\"\"Request a return for a specific receipt and capture revert reasons if it fails.\"\"\"\n",
    "    # Create a contract instance for the specific seller's contract address\n",
    "    contract = web3.eth.contract(address=contract_address, abi=contract_abi)\n",
    "    try:\n",
    "        tx_hash = contract.functions.requestReturn(receiptIndex).transact({\n",
    "            'from': buyer_address\n",
    "        })\n",
    "        \n",
    "        # Wait for the transaction receipt\n",
    "        tx_receipt = web3.eth.wait_for_transaction_receipt(tx_hash)\n",
    "        \n",
    "        # Return transaction details if successful\n",
    "        return {\n",
    "            \"transaction_hash\": tx_receipt['transactionHash'].hex(),\n",
    "            \"status\": \"Success\" if tx_receipt['status'] == 1 else \"Failed\",\n",
    "            \"transaction_receipt\": tx_receipt\n",
    "        }\n",
    "        \n",
    "    except Web3RPCError as e:\n",
    "        # Decode any unexpected errors during the actual transact call\n",
    "        error_message = eval(e.args[0]).get('message', '')\n",
    "        # error_message = decode_revert_message(error_data)\n",
    "        return {\n",
    "            \"status\": \"Failed\",\n",
    "            \"reason\": error_message\n",
    "        }\n"
   ]
  },
  {
   "cell_type": "code",
   "execution_count": 110,
   "id": "7c56562f-c645-45b4-8e44-fffa8dfa1d18",
   "metadata": {
    "ExecuteTime": {
     "end_time": "2024-11-13T18:14:52.369070Z",
     "start_time": "2024-11-13T18:14:52.365001Z"
    }
   },
   "outputs": [],
   "source": [
    "def release_funds(contract_address, buyer_address, receipt_index, seller_address):\n",
    "    \"\"\"Releases funds to the seller after the return window has expired.\"\"\"\n",
    "    contract = web3.eth.contract(address=contract_address, abi=contract_abi)\n",
    "    try:\n",
    "        tx_hash = contract.functions.releaseFunds(buyer_address, receipt_index).transact({\n",
    "            'from': seller_address\n",
    "        })\n",
    "    \n",
    "        # Wait for the transaction receipt\n",
    "        tx_receipt = web3.eth.wait_for_transaction_receipt(tx_hash)\n",
    "        \n",
    "        return {\n",
    "            \"transaction_hash\": tx_receipt['transactionHash'].hex(),\n",
    "            \"status\": \"Success\" if tx_receipt['status'] == 1 else \"Failed\",\n",
    "            \"transaction_receipt\": tx_receipt\n",
    "        }\n",
    "    except ContractLogicError as e:\n",
    "        # Decode any unexpected errors during the actual transact call\n",
    "        print(e.args[1])\n",
    "        error_message = e.args[1].get('reason', '')\n",
    "        # error_message = decode_revert_message(error_data)\n",
    "        return {\n",
    "            \"status\": \"Failed\",\n",
    "            \"reason\": error_message\n",
    "        }\n"
   ]
  },
  {
   "cell_type": "code",
   "execution_count": 111,
   "id": "6c1b2660-8de6-427a-8d49-b3beff60bff3",
   "metadata": {
    "ExecuteTime": {
     "end_time": "2024-11-13T18:14:54.833406Z",
     "start_time": "2024-11-13T18:14:54.829689Z"
    }
   },
   "outputs": [],
   "source": [
    "def get_receipts(buyer_address):\n",
    "    \"\"\"Fetches all receipts for the given buyer address.\"\"\"\n",
    "    receipts = contract.functions.getReceipts(buyer_address).call()\n",
    "    for i, receipt in enumerate(receipts):\n",
    "        amount, time, refunded = receipt\n",
    "        print(f\"Receipt {i}: Amount - {web3.fromWei(amount, 'ether')} ETH, \"\n",
    "              f\"Time - {time}, Refunded - {refunded}\")"
   ]
  },
  {
   "cell_type": "code",
   "execution_count": 112,
   "id": "0dfb9f2b-862d-4c9d-b87c-0b1e0cd30a2b",
   "metadata": {
    "ExecuteTime": {
     "end_time": "2024-11-13T18:14:56.080734Z",
     "start_time": "2024-11-13T18:14:56.077301Z"
    }
   },
   "outputs": [],
   "source": [
    "def deploy_new_contract(seller_account,return_window_days):\n",
    "    \"\"\"Deploy a new instance of the ReceiptManager contract and return the address.\"\"\"\n",
    "    ReceiptManager = web3.eth.contract(abi=contract_abi, bytecode=contract_bytecode)\n",
    "    tx_hash = ReceiptManager.constructor(return_window_days).transact({'from': seller_account})\n",
    "    tx_receipt = web3.eth.wait_for_transaction_receipt(tx_hash)\n",
    "    return tx_receipt.contractAddress"
   ]
  },
  {
   "cell_type": "code",
   "execution_count": 118,
   "id": "d7ba9f26-73f0-44e5-8044-849b81cd1954",
   "metadata": {
    "ExecuteTime": {
     "end_time": "2024-11-13T18:18:03.152533Z",
     "start_time": "2024-11-13T18:18:03.138656Z"
    }
   },
   "outputs": [],
   "source": [
    "sellers_manager = SellersManager()"
   ]
  },
  {
   "cell_type": "code",
   "execution_count": 119,
   "id": "c3111e85-9593-48f4-b472-aa584f1431f8",
   "metadata": {
    "ExecuteTime": {
     "end_time": "2024-11-13T18:18:07.206986Z",
     "start_time": "2024-11-13T18:18:06.984408Z"
    }
   },
   "outputs": [],
   "source": [
    "seller_address = web3.eth.accounts[1]\n",
    "new_contract_seller_address = deploy_new_contract(seller_address,30)\n",
    "buyer_address = web3.eth.accounts[2]"
   ]
  },
  {
   "cell_type": "code",
   "execution_count": 120,
   "id": "29e8309a-5d3b-4131-a1a2-eec8e6d5d4df",
   "metadata": {
    "ExecuteTime": {
     "end_time": "2024-11-13T18:18:27.966038Z",
     "start_time": "2024-11-13T18:18:27.831173Z"
    }
   },
   "outputs": [
    {
     "name": "stdout",
     "output_type": "stream",
     "text": [
      "Seller inserted successfully: {'ResponseMetadata': {'RequestId': 'CVCUCL9BRU2S0PHELOF8VS8O77VV4KQNSO5AEMVJF66Q9ASUAAJG', 'HTTPStatusCode': 200, 'HTTPHeaders': {'server': 'Server', 'date': 'Wed, 13 Nov 2024 18:18:27 GMT', 'content-type': 'application/x-amz-json-1.0', 'content-length': '2', 'connection': 'keep-alive', 'x-amzn-requestid': 'CVCUCL9BRU2S0PHELOF8VS8O77VV4KQNSO5AEMVJF66Q9ASUAAJG', 'x-amz-crc32': '2745614147'}, 'RetryAttempts': 0}}\n"
     ]
    }
   ],
   "source": [
    "sellers_manager.insert_seller({'seller_address':seller_address,'seller_contract_address':new_contract_seller_address})"
   ]
  },
  {
   "cell_type": "code",
   "execution_count": 121,
   "id": "2b5cf1f7-9aa8-41cd-8a22-da13bf4b6db6",
   "metadata": {
    "ExecuteTime": {
     "end_time": "2024-11-13T18:18:33.453567Z",
     "start_time": "2024-11-13T18:18:33.357729Z"
    }
   },
   "outputs": [
    {
     "data": {
      "text/plain": [
       "False"
      ]
     },
     "execution_count": 121,
     "metadata": {},
     "output_type": "execute_result"
    }
   ],
   "source": [
    "sellers_manager.seller_exists(buyer_address)"
   ]
  },
  {
   "cell_type": "code",
   "execution_count": 122,
   "id": "c7bf9624-3ea6-49a6-a846-0c521d59f609",
   "metadata": {
    "ExecuteTime": {
     "end_time": "2024-11-13T18:18:37.127815Z",
     "start_time": "2024-11-13T18:18:37.060695Z"
    }
   },
   "outputs": [
    {
     "name": "stdout",
     "output_type": "stream",
     "text": [
      "Retrieved 6 sellers.\n"
     ]
    }
   ],
   "source": [
    "all_sellers = sellers_manager.get_all_sellers()"
   ]
  },
  {
   "cell_type": "code",
   "execution_count": 123,
   "id": "c27b0756-3a66-4c3d-abef-d07b925dcd1a",
   "metadata": {
    "ExecuteTime": {
     "end_time": "2024-11-13T18:18:38.541758Z",
     "start_time": "2024-11-13T18:18:38.538133Z"
    }
   },
   "outputs": [
    {
     "data": {
      "text/plain": [
       "[{'seller_address': '0xFF746A9dD4EFD7b40D1567672DCBF88bEF29D828',\n",
       "  'seller_contract_address': '0x33CB038CFa037f106032E7073cb7dD15BA9d74A3'},\n",
       " {'seller_address': '0x1BEC335E19c7e6685128149A61FDB40C4683C4F5',\n",
       "  'seller_contract_address': '0xbaE5A4E5732E0b5bA773f94F875C73B5c5c67B8B'},\n",
       " {'seller_address': '0xBCC0684109EB8CDcF248C91cfFA844Cfe2D38c02',\n",
       "  'seller_contract_address': '0x46872b93700007C6A962635aDd54754fFbbdebd3'},\n",
       " {'seller_address': '0x4484de6868944DD66556aB81cDd9b8BDd7cAd906',\n",
       "  'seller_contract_address': '0x493825b0A57a39aBDe5fbE1D6Ae7504d65191aD7'},\n",
       " {'seller_address': '0x2f62FE92c12a3dA8009fdfe199E0D22f47A865Fa',\n",
       "  'seller_contract_address': '0x1FAFF8Bf1853030D34262985E98FfC016f910A4f'},\n",
       " {'seller_address': '0x5F7CDd84e4aF0080B19749f8F345Bf2303CA6De0',\n",
       "  'seller_contract_address': '0x5460519EE6fF5f40696c2C6902b5Ac4d81514363'}]"
      ]
     },
     "execution_count": 123,
     "metadata": {},
     "output_type": "execute_result"
    }
   ],
   "source": [
    "all_sellers"
   ]
  },
  {
   "cell_type": "code",
   "execution_count": 124,
   "id": "888f6651-b832-4b4b-929f-ad2b1fd7336c",
   "metadata": {
    "ExecuteTime": {
     "end_time": "2024-11-13T18:19:02.036109Z",
     "start_time": "2024-11-13T18:19:01.863785Z"
    }
   },
   "outputs": [
    {
     "name": "stderr",
     "output_type": "stream",
     "text": [
      "/var/folders/fy/mj05n9c54hqbvbww98k7rnw00000gn/T/ipykernel_2393/2186493913.py:20: DeprecationWarning: datetime.datetime.utcfromtimestamp() is deprecated and scheduled for removal in a future version. Use timezone-aware objects to represent datetimes in UTC: datetime.datetime.fromtimestamp(timestamp, datetime.UTC).\n",
      "  purchase_time = datetime.utcfromtimestamp(block['timestamp']).strftime('%Y-%m-%d %H:%M:%S')\n"
     ]
    }
   ],
   "source": [
    "receipt_event = issue_receipt(new_contract_seller_address, seller_address, buyer_address, 0.1)  # Issue receipt for 0.1 Ether"
   ]
  },
  {
   "cell_type": "code",
   "execution_count": 125,
   "id": "7ffe3717-306a-4ce8-84e9-bc7f00ab1773",
   "metadata": {
    "ExecuteTime": {
     "end_time": "2024-11-13T18:19:07.025767Z",
     "start_time": "2024-11-13T18:19:07.023391Z"
    }
   },
   "outputs": [],
   "source": [
    "receipt_event['item'] = 'Pokemon Cards'"
   ]
  },
  {
   "cell_type": "code",
   "execution_count": 126,
   "id": "1aa365e0-3c63-4b3e-85e4-c0f1995cbe50",
   "metadata": {
    "ExecuteTime": {
     "end_time": "2024-11-13T18:19:09.679201Z",
     "start_time": "2024-11-13T18:19:09.675982Z"
    }
   },
   "outputs": [
    {
     "data": {
      "text/plain": [
       "{'buyer_address': '0x5204De0498cED1195fAf4c66d52011DA61F04a11',\n",
       " 'seller_address': '0xFF746A9dD4EFD7b40D1567672DCBF88bEF29D828',\n",
       " 'seller_contract_address': '0x33CB038CFa037f106032E7073cb7dD15BA9d74A3',\n",
       " 'amount': 0.1,\n",
       " 'purchase_time': '2024-11-13 18:19:02',\n",
       " 'transaction_hash': 'bffd311e10de6216ea00ddf69d2f2e9fab373a40da02b09f33973854a8e4064d',\n",
       " 'block_number': 3,\n",
       " 'status': 'Success',\n",
       " 'receipt_index': 0,\n",
       " 'item': 'Pokemon Cards'}"
      ]
     },
     "execution_count": 126,
     "metadata": {},
     "output_type": "execute_result"
    }
   ],
   "source": [
    "receipt_event"
   ]
  },
  {
   "cell_type": "code",
   "execution_count": 127,
   "id": "0639e34c-acbf-4b40-b63b-bf9f5b68c590",
   "metadata": {
    "ExecuteTime": {
     "end_time": "2024-11-13T18:20:02.262161Z",
     "start_time": "2024-11-13T18:20:02.140797Z"
    },
    "scrolled": true
   },
   "outputs": [
    {
     "name": "stdout",
     "output_type": "stream",
     "text": [
      "Data saved successfully: {'ResponseMetadata': {'RequestId': '5PL0KJ1CGRTJSOA7FVBEKHCHE7VV4KQNSO5AEMVJF66Q9ASUAAJG', 'HTTPStatusCode': 200, 'HTTPHeaders': {'server': 'Server', 'date': 'Wed, 13 Nov 2024 18:20:02 GMT', 'content-type': 'application/x-amz-json-1.0', 'content-length': '2', 'connection': 'keep-alive', 'x-amzn-requestid': '5PL0KJ1CGRTJSOA7FVBEKHCHE7VV4KQNSO5AEMVJF66Q9ASUAAJG', 'x-amz-crc32': '2745614147'}, 'RetryAttempts': 0}}\n"
     ]
    }
   ],
   "source": [
    "receipt_Dynamo_DB.insert_receipt(receipt_event)"
   ]
  },
  {
   "cell_type": "code",
   "execution_count": null,
   "id": "1ee21b13-47e2-4209-800d-3de7771b60a7",
   "metadata": {},
   "outputs": [],
   "source": []
  },
  {
   "cell_type": "code",
   "execution_count": null,
   "id": "7f08166a-1d5f-4233-b4bc-62edce1e831c",
   "metadata": {},
   "outputs": [],
   "source": []
  },
  {
   "cell_type": "code",
   "execution_count": null,
   "id": "c3e636d5-7410-44a3-b51f-7ee40863d302",
   "metadata": {},
   "outputs": [],
   "source": []
  },
  {
   "cell_type": "code",
   "execution_count": 128,
   "id": "844fed34-7edf-4bf3-8a2d-f3c983c5fcd5",
   "metadata": {
    "ExecuteTime": {
     "end_time": "2024-11-13T18:20:12.063033Z",
     "start_time": "2024-11-13T18:20:11.911391Z"
    }
   },
   "outputs": [
    {
     "data": {
      "text/plain": [
       "{'transaction_hash': 'd21a2415a1c3ebdb42f5cb75f0480eab16175ab02766c18c770e20d8837eb77f',\n",
       " 'status': 'Success',\n",
       " 'transaction_receipt': AttributeDict({'transactionHash': HexBytes('0xd21a2415a1c3ebdb42f5cb75f0480eab16175ab02766c18c770e20d8837eb77f'),\n",
       "  'transactionIndex': 0,\n",
       "  'blockNumber': 4,\n",
       "  'blockHash': HexBytes('0xa80ed0cbafb229bb17466cfef98d15d0a20edcbfb9739744d547f4f296f7fbb9'),\n",
       "  'from': '0x5204De0498cED1195fAf4c66d52011DA61F04a11',\n",
       "  'to': '0x33CB038CFa037f106032E7073cb7dD15BA9d74A3',\n",
       "  'cumulativeGasUsed': 61583,\n",
       "  'gasUsed': 61583,\n",
       "  'contractAddress': None,\n",
       "  'logs': [AttributeDict({'address': '0x33CB038CFa037f106032E7073cb7dD15BA9d74A3',\n",
       "    'blockHash': HexBytes('0xa80ed0cbafb229bb17466cfef98d15d0a20edcbfb9739744d547f4f296f7fbb9'),\n",
       "    'blockNumber': 4,\n",
       "    'data': HexBytes('0x000000000000000000000000000000000000000000000000016345785d8a0000'),\n",
       "    'logIndex': 0,\n",
       "    'removed': False,\n",
       "    'topics': [HexBytes('0xa171b6942063c6f2800ce40a780edce37baa2b618571b11eedd1e69e626e7d76'),\n",
       "     HexBytes('0x0000000000000000000000005204de0498ced1195faf4c66d52011da61f04a11')],\n",
       "    'transactionHash': HexBytes('0xd21a2415a1c3ebdb42f5cb75f0480eab16175ab02766c18c770e20d8837eb77f'),\n",
       "    'transactionIndex': 0})],\n",
       "  'logsBloom': HexBytes('0x00000000000000000000000000000000000000000000000000100000000000000000000000000000000000000000000002000000000002000000000000000000000000000000000000000000000000000000000000000040000000000000000000000000000000000000000000000000000000000000000000000000000000000000000000000000000000000000000000000000000000200000000000000000000000000001000000000000000000000000000000000000000000000000000000000000000000100000000000000000000000010000000000000000000000000000000800000000000000000000000000000000000000000000000000000000'),\n",
       "  'status': 1,\n",
       "  'effectiveGasPrice': 814757286,\n",
       "  'type': 2})}"
      ]
     },
     "execution_count": 128,
     "metadata": {},
     "output_type": "execute_result"
    }
   ],
   "source": [
    "request_return(new_contract_seller_address, buyer_address, receipt_event['receipt_index'])"
   ]
  },
  {
   "cell_type": "code",
   "execution_count": 129,
   "id": "ce198bb1-f29e-45ef-a1cc-c429cddf0334",
   "metadata": {
    "ExecuteTime": {
     "end_time": "2024-11-13T18:21:02.661012Z",
     "start_time": "2024-11-13T18:21:02.575382Z"
    }
   },
   "outputs": [
    {
     "name": "stdout",
     "output_type": "stream",
     "text": [
      "{'hash': None, 'programCounter': 2122, 'result': '0x08c379a000000000000000000000000000000000000000000000000000000000000000200000000000000000000000000000000000000000000000000000000000000015526566756e6420616c7265616479206973737565640000000000000000000000', 'reason': 'Refund already issued', 'message': 'revert'}\n"
     ]
    },
    {
     "data": {
      "text/plain": [
       "{'status': 'Failed', 'reason': 'Refund already issued'}"
      ]
     },
     "execution_count": 129,
     "metadata": {},
     "output_type": "execute_result"
    }
   ],
   "source": [
    "release_funds(new_contract_seller_address, buyer_address,0, seller_address)"
   ]
  },
  {
   "cell_type": "code",
   "execution_count": 130,
   "id": "02d449e6-5dd8-4dcc-adf2-d4f27f6cbc14",
   "metadata": {
    "ExecuteTime": {
     "end_time": "2024-11-13T18:21:06.358011Z",
     "start_time": "2024-11-13T18:21:06.349839Z"
    }
   },
   "outputs": [
    {
     "name": "stdout",
     "output_type": "stream",
     "text": [
      "Contract Balance: 0 ETH\n"
     ]
    }
   ],
   "source": [
    "balance_wei = web3.eth.get_balance(new_contract_seller_address)\n",
    "\n",
    "# Convert the balance to Ether for easier readability\n",
    "balance_eth = web3.from_wei(balance_wei, 'ether')\n",
    "\n",
    "print(f\"Contract Balance: {balance_eth} ETH\")"
   ]
  },
  {
   "cell_type": "code",
   "execution_count": 132,
   "id": "4994f181-8288-4e06-a0ca-91166d3e2f4d",
   "metadata": {
    "ExecuteTime": {
     "end_time": "2024-11-13T18:22:56.949179Z",
     "start_time": "2024-11-13T18:22:56.909743Z"
    }
   },
   "outputs": [
    {
     "name": "stdout",
     "output_type": "stream",
     "text": [
      "Account: 0xE1c5A7F0ABEd736915ecB9aca7E04f7F2A842A8b, Balance: 99.996357602125 ETH\n",
      "Account: 0xFF746A9dD4EFD7b40D1567672DCBF88bEF29D828, Balance: 99.998906261901443908 ETH\n",
      "Account: 0x5204De0498cED1195fAf4c66d52011DA61F04a11, Balance: 99.999862539604065224 ETH\n",
      "Account: 0x08298c261175cdBae5CcED3E5DB216e681A2c774, Balance: 100 ETH\n",
      "Account: 0x59e288D36CA7Ed764174Fb49c33F2017A8B94526, Balance: 100 ETH\n",
      "Account: 0xbAa1C3Ed844a92cCb20D4985590Cb1fC9e1BfF76, Balance: 100 ETH\n",
      "Account: 0xEe23effB1AfBF7DEC413872D8fe0D946f6ad8a28, Balance: 100 ETH\n",
      "Account: 0x04457496C7Baf1cF004A81417b28F2314AABDcA9, Balance: 100 ETH\n",
      "Account: 0x5797955D09731e6c1455b1053E360B94C1EE1D72, Balance: 100 ETH\n",
      "Account: 0x1b3cb5108da53921fA45B60bcDa5C0e34210b832, Balance: 100 ETH\n"
     ]
    }
   ],
   "source": [
    "if web3.is_connected():\n",
    "    # Retrieve all accounts from Ganache\n",
    "    accounts = web3.eth.accounts\n",
    "\n",
    "    # Print each account's address and balance in Ether\n",
    "    for account in accounts:\n",
    "        balance_wei = web3.eth.get_balance(account)\n",
    "        balance_eth = web3.from_wei(balance_wei, 'ether')\n",
    "        print(f\"Account: {account}, Balance: {balance_eth} ETH\")\n",
    "else:\n",
    "    print(\"Unable to connect to Ganache.\")"
   ]
  },
  {
   "cell_type": "code",
   "execution_count": 133,
   "id": "d88f9c4a-a4a5-42ca-b968-6b37939d0732",
   "metadata": {
    "ExecuteTime": {
     "end_time": "2024-11-13T18:23:19.605308Z",
     "start_time": "2024-11-13T18:23:19.464381Z"
    }
   },
   "outputs": [
    {
     "name": "stdout",
     "output_type": "stream",
     "text": [
      "Retrieved 5 transactions.\n"
     ]
    }
   ],
   "source": [
    "all_transactions = receipt_Dynamo_DB.get_all_transactions()"
   ]
  },
  {
   "cell_type": "code",
   "execution_count": 134,
   "id": "b75a822a-0d4b-4c7c-ab10-3b2d2f03f7f0",
   "metadata": {
    "ExecuteTime": {
     "end_time": "2024-11-13T18:23:22.395112Z",
     "start_time": "2024-11-13T18:23:22.390872Z"
    }
   },
   "outputs": [
    {
     "data": {
      "text/plain": [
       "[{'return_time': Decimal('1731426287.7691590785980224609375'),\n",
       "  'item_name': 'Pokemon Cards',\n",
       "  'seller_address': '0x4484de6868944DD66556aB81cDd9b8BDd7cAd906',\n",
       "  'status': 'Returned',\n",
       "  'amount': Decimal('0.2'),\n",
       "  'block_number': Decimal('3'),\n",
       "  'seller_contract_address': '0x493825b0A57a39aBDe5fbE1D6Ae7504d65191aD7',\n",
       "  'transaction_hash': '1a623bd66bac4f29b9330032c3e703a4745cf79728cf87cd02a7a55e83bf48f0',\n",
       "  'receipt_index': Decimal('0'),\n",
       "  'buyer_address': '0x1BEC335E19c7e6685128149A61FDB40C4683C4F5',\n",
       "  'purchase_time': '2024-11-12 15:41:06'},\n",
       " {'return_time': Decimal('1731467705.3704888820648193359375'),\n",
       "  'item_name': 'Pokemon Cards',\n",
       "  'seller_address': '0x2f62FE92c12a3dA8009fdfe199E0D22f47A865Fa',\n",
       "  'status': 'Returned',\n",
       "  'amount': Decimal('0.2'),\n",
       "  'block_number': Decimal('5'),\n",
       "  'seller_contract_address': '0x1FAFF8Bf1853030D34262985E98FfC016f910A4f',\n",
       "  'transaction_hash': 'da507f0edaca51b09859cbcd0639fe921adf2227a541fd822296aa35ea5e5e94',\n",
       "  'receipt_index': Decimal('0'),\n",
       "  'buyer_address': '0x5F7CDd84e4aF0080B19749f8F345Bf2303CA6De0',\n",
       "  'purchase_time': '2024-11-13 03:15:05'},\n",
       " {'item_name': 'One Piece Cards',\n",
       "  'seller_address': '0x1BEC335E19c7e6685128149A61FDB40C4683C4F5',\n",
       "  'status': 'Funds Released to Seller',\n",
       "  'amount': Decimal('0.2'),\n",
       "  'block_number': Decimal('6'),\n",
       "  'seller_contract_address': '0xbaE5A4E5732E0b5bA773f94F875C73B5c5c67B8B',\n",
       "  'transaction_hash': 'b320e73840b663433e72f079bf736c84baf67ed4cfab046ad9901487902a68fb',\n",
       "  'funds_release_time': Decimal('1731426782.015963077545166015625'),\n",
       "  'receipt_index': Decimal('0'),\n",
       "  'buyer_address': '0x6C766E67fF42864F3EEeFEcED19119F993876707',\n",
       "  'purchase_time': '2024-11-12 15:51:41'},\n",
       " {'seller_address': '0xFF746A9dD4EFD7b40D1567672DCBF88bEF29D828',\n",
       "  'status': 'Success',\n",
       "  'amount': Decimal('0.1'),\n",
       "  'block_number': Decimal('3'),\n",
       "  'item': 'Pokemon Cards',\n",
       "  'seller_contract_address': '0x33CB038CFa037f106032E7073cb7dD15BA9d74A3',\n",
       "  'transaction_hash': 'bffd311e10de6216ea00ddf69d2f2e9fab373a40da02b09f33973854a8e4064d',\n",
       "  'receipt_index': Decimal('0'),\n",
       "  'buyer_address': '0x5204De0498cED1195fAf4c66d52011DA61F04a11',\n",
       "  'purchase_time': '2024-11-13 18:19:02'},\n",
       " {'seller_address': '0x5F7CDd84e4aF0080B19749f8F345Bf2303CA6De0',\n",
       "  'status': 'Success',\n",
       "  'amount': Decimal('0.1'),\n",
       "  'block_number': Decimal('2'),\n",
       "  'item': 'Pokemon Cards',\n",
       "  'seller_contract_address': '0x5460519EE6fF5f40696c2C6902b5Ac4d81514363',\n",
       "  'transaction_hash': 'a95bf0c6ae478d3008fcd70df02d64598cfbb3e5daa1bda03cff8f99efa5714f',\n",
       "  'receipt_index': Decimal('0'),\n",
       "  'buyer_address': '0x284D95e541482427408c21Ffa8B51fAC87f1c400',\n",
       "  'purchase_time': '2024-11-13 03:15:04'}]"
      ]
     },
     "execution_count": 134,
     "metadata": {},
     "output_type": "execute_result"
    }
   ],
   "source": [
    "all_transactions"
   ]
  },
  {
   "cell_type": "code",
   "execution_count": 153,
   "id": "bf871783-4bd5-44db-8eee-7c31459402eb",
   "metadata": {},
   "outputs": [
    {
     "data": {
      "text/plain": [
       "<Response [200]>"
      ]
     },
     "execution_count": 153,
     "metadata": {},
     "output_type": "execute_result"
    }
   ],
   "source": [
    "requests.get('http://0.0.0.0:8010/reset_tables')"
   ]
  },
  {
   "cell_type": "code",
   "execution_count": 154,
   "id": "0604ee64-ef84-43ac-8750-5e429e9d1dc8",
   "metadata": {},
   "outputs": [],
   "source": [
    "seller_address = web3.eth.accounts[0]\n",
    "buyer_address = web3.eth.accounts[1]"
   ]
  },
  {
   "cell_type": "code",
   "execution_count": 155,
   "id": "fe98eb6f-5e48-4549-91b0-13d04a366c83",
   "metadata": {},
   "outputs": [],
   "source": [
    "r = requests.post('http://0.0.0.0:8010/create_seller_contract',json = {'seller_account_address':seller_address,'return_window_days':30})"
   ]
  },
  {
   "cell_type": "code",
   "execution_count": 156,
   "id": "68632aaf-fe16-4c72-88a0-f2efe07a631a",
   "metadata": {},
   "outputs": [
    {
     "data": {
      "text/plain": [
       "{'seller_address': '0x4484de6868944DD66556aB81cDd9b8BDd7cAd906',\n",
       " 'contract_address': '0x493825b0A57a39aBDe5fbE1D6Ae7504d65191aD7',\n",
       " 'return_window_days': 30}"
      ]
     },
     "execution_count": 156,
     "metadata": {},
     "output_type": "execute_result"
    }
   ],
   "source": [
    "r.json()"
   ]
  },
  {
   "cell_type": "code",
   "execution_count": 157,
   "id": "e456fb69-f1b8-41fa-9fc1-5a9174261d23",
   "metadata": {},
   "outputs": [
    {
     "data": {
      "text/plain": [
       "{'0x4484de6868944DD66556aB81cDd9b8BDd7cAd906': {'return_window_days': 30,\n",
       "  'seller_address': '0x4484de6868944DD66556aB81cDd9b8BDd7cAd906',\n",
       "  'seller_contract_address': '0x493825b0A57a39aBDe5fbE1D6Ae7504d65191aD7'}}"
      ]
     },
     "execution_count": 157,
     "metadata": {},
     "output_type": "execute_result"
    }
   ],
   "source": [
    "r = requests.get('http://0.0.0.0:8010/get_sellers_w_contracts')\n",
    "r.json()"
   ]
  },
  {
   "cell_type": "code",
   "execution_count": 158,
   "id": "4e02eb25-0115-4678-82d1-cdb2915b6190",
   "metadata": {},
   "outputs": [
    {
     "data": {
      "text/plain": [
       "{'success': True,\n",
       " 'receipt_details': {'buyer_address': '0x1BEC335E19c7e6685128149A61FDB40C4683C4F5',\n",
       "  'seller_address': '0x4484de6868944DD66556aB81cDd9b8BDd7cAd906',\n",
       "  'seller_contract_address': '0x493825b0A57a39aBDe5fbE1D6Ae7504d65191aD7',\n",
       "  'amount': 0.2,\n",
       "  'purchase_time': '2024-11-12 15:41:06',\n",
       "  'transaction_hash': '1a623bd66bac4f29b9330032c3e703a4745cf79728cf87cd02a7a55e83bf48f0',\n",
       "  'block_number': 3,\n",
       "  'status': 'Active',\n",
       "  'receipt_index': 0,\n",
       "  'item_name': 'Pokemon Cards'}}"
      ]
     },
     "execution_count": 158,
     "metadata": {},
     "output_type": "execute_result"
    }
   ],
   "source": [
    "r = requests.post('http://0.0.0.0:8010/issue_receipt',\n",
    "                  json = {'seller_address':seller_address,'buyer_address':buyer_address,'amount_eth':.2,'item_name':'Pokemon Cards'})\n",
    "r.json()"
   ]
  },
  {
   "cell_type": "code",
   "execution_count": 182,
   "id": "be960302-685c-4491-b926-3e55a21ccc73",
   "metadata": {
    "scrolled": true
   },
   "outputs": [
    {
     "data": {
      "text/plain": [
       "{'all_accounts': [{'account_index': 0,\n",
       "   'account_address': '0x715303E222379d51A33050a03d0ca9F74De79430',\n",
       "   'balance': 999.99625274425},\n",
       "  {'account_index': 1,\n",
       "   'account_address': '0x088e980DcF726b68a93DDF8A533840C0036E97e2',\n",
       "   'balance': 1000},\n",
       "  {'account_index': 2,\n",
       "   'account_address': '0xdc030AbcE41860dACE1bDB6A2A481E8d69deAd09',\n",
       "   'balance': 1000},\n",
       "  {'account_index': 3,\n",
       "   'account_address': '0xf8434966f5dD0a69DA1a774d2250b0732cCe3445',\n",
       "   'balance': 1000},\n",
       "  {'account_index': 4,\n",
       "   'account_address': '0x98eb44f5b46f3705CF352D70B368d0C16EbecF14',\n",
       "   'balance': 1000},\n",
       "  {'account_index': 5,\n",
       "   'account_address': '0x65c6204f7c86A7b5DC8CDBEC9556991Dc14398C4',\n",
       "   'balance': 1000},\n",
       "  {'account_index': 6,\n",
       "   'account_address': '0x29122eeB40E4d8A06F0B871bBf00F21CFB4b16B1',\n",
       "   'balance': 1000},\n",
       "  {'account_index': 7,\n",
       "   'account_address': '0x7dEA308da586a152740E80AB023A7358d381f63b',\n",
       "   'balance': 1000},\n",
       "  {'account_index': 8,\n",
       "   'account_address': '0x5DA8c48993C35A9e1d00BEC33Be16934c092Db13',\n",
       "   'balance': 1000},\n",
       "  {'account_index': 9,\n",
       "   'account_address': '0xb6c113DC03F12F90ffbc197d324546E56a7732C0',\n",
       "   'balance': 1000}]}"
      ]
     },
     "execution_count": 182,
     "metadata": {},
     "output_type": "execute_result"
    }
   ],
   "source": [
    "r = requests.get('http://0.0.0.0:8010/get_all_accounts_in_network')\n",
    "r.json()"
   ]
  },
  {
   "cell_type": "code",
   "execution_count": null,
   "id": "d95dab08-756b-4a53-8c2b-89cb570ff6ef",
   "metadata": {},
   "outputs": [],
   "source": []
  },
  {
   "cell_type": "code",
   "execution_count": null,
   "id": "52769574-0651-46ed-9eb5-fab825028266",
   "metadata": {},
   "outputs": [],
   "source": []
  },
  {
   "cell_type": "code",
   "execution_count": 160,
   "id": "8b4da5b9-eb42-4908-a749-c08dbef8cae5",
   "metadata": {},
   "outputs": [
    {
     "data": {
      "text/plain": [
       "[{'item_name': 'Pokemon Cards',\n",
       "  'seller_address': '0x4484de6868944DD66556aB81cDd9b8BDd7cAd906',\n",
       "  'status': 'Active',\n",
       "  'amount': 0.2,\n",
       "  'block_number': 3,\n",
       "  'seller_contract_address': '0x493825b0A57a39aBDe5fbE1D6Ae7504d65191aD7',\n",
       "  'transaction_hash': '1a623bd66bac4f29b9330032c3e703a4745cf79728cf87cd02a7a55e83bf48f0',\n",
       "  'receipt_index': 0,\n",
       "  'buyer_address': '0x1BEC335E19c7e6685128149A61FDB40C4683C4F5',\n",
       "  'purchase_time': '2024-11-12 15:41:06'}]"
      ]
     },
     "execution_count": 160,
     "metadata": {},
     "output_type": "execute_result"
    }
   ],
   "source": [
    "r = requests.post('http://0.0.0.0:8010/get_buyer_receipts',\n",
    "                  json = {'buyer_address':buyer_address})\n",
    "buyer_receipts = r.json()['all_receipts']\n",
    "buyer_receipts"
   ]
  },
  {
   "cell_type": "code",
   "execution_count": 163,
   "id": "f3d65351-2c9d-444e-a0db-fbb407374934",
   "metadata": {},
   "outputs": [
    {
     "data": {
      "text/plain": [
       "{'success': True,\n",
       " 'return_request_details': \"{'transaction_hash': '2c4c34513664968ef39e2b8f46c12480559f1606ecf37f40fd1226a6296bf179', 'status': 'Success', 'transaction_receipt': AttributeDict({'transactionHash': HexBytes('0x2c4c34513664968ef39e2b8f46c12480559f1606ecf37f40fd1226a6296bf179'), 'transactionIndex': 0, 'blockNumber': 4, 'blockHash': HexBytes('0x9950aae6cc91035732d29e373d4490608e98564221a6c5be42046590456ba617'), 'from': '0x1BEC335E19c7e6685128149A61FDB40C4683C4F5', 'to': '0x493825b0A57a39aBDe5fbE1D6Ae7504d65191aD7', 'cumulativeGasUsed': 61583, 'gasUsed': 61583, 'contractAddress': None, 'logs': [AttributeDict({'address': '0x493825b0A57a39aBDe5fbE1D6Ae7504d65191aD7', 'blockHash': HexBytes('0x9950aae6cc91035732d29e373d4490608e98564221a6c5be42046590456ba617'), 'blockNumber': 4, 'data': HexBytes('0x00000000000000000000000000000000000000000000000002c68af0bb140000'), 'logIndex': 0, 'removed': False, 'topics': [HexBytes('0xa171b6942063c6f2800ce40a780edce37baa2b618571b11eedd1e69e626e7d76'), HexBytes('0x0000000000000000000000001bec335e19c7e6685128149a61fdb40c4683c4f5')], 'transactionHash': HexBytes('0x2c4c34513664968ef39e2b8f46c12480559f1606ecf37f40fd1226a6296bf179'), 'transactionIndex': 0})], 'logsBloom': HexBytes('0x00000000000000000000000000000000000000000000000000100000000000000000000000000000000000000000000000010000000002000000000000000000000000000000000000000000000000000000000000000000000000000000000000000000000000000000000000000000000000000000000000000000000000000000000000000000000000000000000000000000000020000000010800000000000000000001000000000000000000000000000000000000000000000000000000000000000000000000000000000000000000000000000000000000000000000000000000000000000000000000000000000000010000100000000000000000'), 'status': 1, 'effectiveGasPrice': 758353663, 'type': 2})}\"}"
      ]
     },
     "execution_count": 163,
     "metadata": {},
     "output_type": "execute_result"
    }
   ],
   "source": [
    "current_receipt = buyer_receipts[0]\n",
    "r = requests.post('http://0.0.0.0:8010/request_return',\n",
    "                  json = {'transaction_hash':current_receipt['transaction_hash']})\n",
    "r.json()"
   ]
  },
  {
   "cell_type": "code",
   "execution_count": 164,
   "id": "0a3c1237-086f-4815-84f8-e5364377efc3",
   "metadata": {},
   "outputs": [
    {
     "data": {
      "text/plain": [
       "[{'return_time': 1731426287.769159,\n",
       "  'item_name': 'Pokemon Cards',\n",
       "  'seller_address': '0x4484de6868944DD66556aB81cDd9b8BDd7cAd906',\n",
       "  'status': 'Returned',\n",
       "  'amount': 0.2,\n",
       "  'block_number': 3,\n",
       "  'seller_contract_address': '0x493825b0A57a39aBDe5fbE1D6Ae7504d65191aD7',\n",
       "  'transaction_hash': '1a623bd66bac4f29b9330032c3e703a4745cf79728cf87cd02a7a55e83bf48f0',\n",
       "  'receipt_index': 0,\n",
       "  'buyer_address': '0x1BEC335E19c7e6685128149A61FDB40C4683C4F5',\n",
       "  'purchase_time': '2024-11-12 15:41:06'}]"
      ]
     },
     "execution_count": 164,
     "metadata": {},
     "output_type": "execute_result"
    }
   ],
   "source": [
    "r = requests.post('http://0.0.0.0:8010/get_buyer_receipts',\n",
    "                  json = {'buyer_address':buyer_address})\n",
    "buyer_receipts = r.json()['all_receipts']\n",
    "buyer_receipts"
   ]
  },
  {
   "cell_type": "code",
   "execution_count": 165,
   "id": "7b820a1d-3c8f-4723-afb4-ffc6197f084d",
   "metadata": {},
   "outputs": [
    {
     "data": {
      "text/plain": [
       "{'detail': '500: Refund already issued'}"
      ]
     },
     "execution_count": 165,
     "metadata": {},
     "output_type": "execute_result"
    }
   ],
   "source": [
    "current_receipt = buyer_receipts[0]\n",
    "r = requests.post('http://0.0.0.0:8010/request_return',\n",
    "                  json = {'transaction_hash':current_receipt['transaction_hash']})\n",
    "r.json()"
   ]
  },
  {
   "cell_type": "code",
   "execution_count": null,
   "id": "2a6f5539-8bf2-4603-b45f-7b75d1628db3",
   "metadata": {},
   "outputs": [],
   "source": []
  },
  {
   "cell_type": "code",
   "execution_count": 166,
   "id": "3871788c-4b06-49b2-a8ce-4d842aaea195",
   "metadata": {},
   "outputs": [
    {
     "data": {
      "text/plain": [
       "{'success': True,\n",
       " 'all_receipts': [{'return_time': 1731426287.769159,\n",
       "   'item_name': 'Pokemon Cards',\n",
       "   'seller_address': '0x4484de6868944DD66556aB81cDd9b8BDd7cAd906',\n",
       "   'status': 'Returned',\n",
       "   'amount': 0.2,\n",
       "   'block_number': 3,\n",
       "   'seller_contract_address': '0x493825b0A57a39aBDe5fbE1D6Ae7504d65191aD7',\n",
       "   'transaction_hash': '1a623bd66bac4f29b9330032c3e703a4745cf79728cf87cd02a7a55e83bf48f0',\n",
       "   'receipt_index': 0,\n",
       "   'buyer_address': '0x1BEC335E19c7e6685128149A61FDB40C4683C4F5',\n",
       "   'purchase_time': '2024-11-12 15:41:06'}]}"
      ]
     },
     "execution_count": 166,
     "metadata": {},
     "output_type": "execute_result"
    }
   ],
   "source": [
    "r = requests.post('http://0.0.0.0:8010/get_seller_receipts',\n",
    "                  json = {'seller_address':seller_address})\n",
    "seller_receipts = r.json()\n",
    "seller_receipts"
   ]
  },
  {
   "cell_type": "code",
   "execution_count": 168,
   "id": "95a0f1b1-da6f-4e32-b222-2ba397e94957",
   "metadata": {},
   "outputs": [
    {
     "data": {
      "text/plain": [
       "{'detail': '500: Refund already issued'}"
      ]
     },
     "execution_count": 168,
     "metadata": {},
     "output_type": "execute_result"
    }
   ],
   "source": [
    "seller_receipts = buyer_receipts[0]\n",
    "r = requests.post('http://0.0.0.0:8010/release_funds',\n",
    "                  json = {'transaction_hash':current_receipt['transaction_hash']})\n",
    "r.json()"
   ]
  },
  {
   "cell_type": "code",
   "execution_count": null,
   "id": "27575814-f24b-4fda-a3ca-a5e58cb1399f",
   "metadata": {},
   "outputs": [],
   "source": []
  },
  {
   "cell_type": "code",
   "execution_count": 169,
   "id": "77b96ff1-8eeb-481b-8b0d-bddd3b6155b1",
   "metadata": {},
   "outputs": [],
   "source": [
    "seller_address = web3.eth.accounts[1]\n",
    "buyer_address = web3.eth.accounts[2]"
   ]
  },
  {
   "cell_type": "code",
   "execution_count": 170,
   "id": "87199805-7af2-48a7-942f-32d8048d0e3d",
   "metadata": {},
   "outputs": [],
   "source": [
    "r = requests.post('http://0.0.0.0:8010/create_seller_contract',json = {'seller_account_address':seller_address,'return_window_days':0})"
   ]
  },
  {
   "cell_type": "code",
   "execution_count": 171,
   "id": "c6bc1f20-dbfd-49ae-a179-bcca0a244009",
   "metadata": {},
   "outputs": [
    {
     "data": {
      "text/plain": [
       "{'0x1BEC335E19c7e6685128149A61FDB40C4683C4F5': {'return_window_days': 0,\n",
       "  'seller_address': '0x1BEC335E19c7e6685128149A61FDB40C4683C4F5',\n",
       "  'seller_contract_address': '0xbaE5A4E5732E0b5bA773f94F875C73B5c5c67B8B'},\n",
       " '0x4484de6868944DD66556aB81cDd9b8BDd7cAd906': {'return_window_days': 30,\n",
       "  'seller_address': '0x4484de6868944DD66556aB81cDd9b8BDd7cAd906',\n",
       "  'seller_contract_address': '0x493825b0A57a39aBDe5fbE1D6Ae7504d65191aD7'}}"
      ]
     },
     "execution_count": 171,
     "metadata": {},
     "output_type": "execute_result"
    }
   ],
   "source": [
    "r = requests.get('http://0.0.0.0:8010/get_sellers_w_contracts')\n",
    "r.json()"
   ]
  },
  {
   "cell_type": "code",
   "execution_count": 173,
   "id": "99d35622-11f2-4965-978e-1ffaa65c1356",
   "metadata": {},
   "outputs": [
    {
     "data": {
      "text/plain": [
       "{'success': True,\n",
       " 'receipt_details': {'buyer_address': '0x6C766E67fF42864F3EEeFEcED19119F993876707',\n",
       "  'seller_address': '0x1BEC335E19c7e6685128149A61FDB40C4683C4F5',\n",
       "  'seller_contract_address': '0xbaE5A4E5732E0b5bA773f94F875C73B5c5c67B8B',\n",
       "  'amount': 0.2,\n",
       "  'purchase_time': '2024-11-12 15:51:41',\n",
       "  'transaction_hash': 'b320e73840b663433e72f079bf736c84baf67ed4cfab046ad9901487902a68fb',\n",
       "  'block_number': 6,\n",
       "  'status': 'Active',\n",
       "  'receipt_index': 0,\n",
       "  'item_name': 'One Piece Cards'}}"
      ]
     },
     "execution_count": 173,
     "metadata": {},
     "output_type": "execute_result"
    }
   ],
   "source": [
    "r = requests.post('http://0.0.0.0:8010/issue_receipt',\n",
    "                  json = {'seller_address':seller_address,'buyer_address':buyer_address,'amount_eth':.2,'item_name':'One Piece Cards'})\n",
    "r.json()"
   ]
  },
  {
   "cell_type": "code",
   "execution_count": 174,
   "id": "3fc18e40-283e-4c14-b367-9de843a14e2a",
   "metadata": {},
   "outputs": [
    {
     "data": {
      "text/plain": [
       "[{'item_name': 'One Piece Cards',\n",
       "  'seller_address': '0x1BEC335E19c7e6685128149A61FDB40C4683C4F5',\n",
       "  'status': 'Active',\n",
       "  'amount': 0.2,\n",
       "  'block_number': 6,\n",
       "  'seller_contract_address': '0xbaE5A4E5732E0b5bA773f94F875C73B5c5c67B8B',\n",
       "  'transaction_hash': 'b320e73840b663433e72f079bf736c84baf67ed4cfab046ad9901487902a68fb',\n",
       "  'receipt_index': 0,\n",
       "  'buyer_address': '0x6C766E67fF42864F3EEeFEcED19119F993876707',\n",
       "  'purchase_time': '2024-11-12 15:51:41'}]"
      ]
     },
     "execution_count": 174,
     "metadata": {},
     "output_type": "execute_result"
    }
   ],
   "source": [
    "r = requests.post('http://0.0.0.0:8010/get_buyer_receipts',\n",
    "                  json = {'buyer_address':buyer_address})\n",
    "buyer_receipts = r.json()['all_receipts']\n",
    "buyer_receipts"
   ]
  },
  {
   "cell_type": "code",
   "execution_count": 176,
   "id": "da99ce61-1dfa-4874-8c88-03f130d005ac",
   "metadata": {},
   "outputs": [
    {
     "data": {
      "text/plain": [
       "{'detail': '500: Return window has closed'}"
      ]
     },
     "execution_count": 176,
     "metadata": {},
     "output_type": "execute_result"
    }
   ],
   "source": [
    "current_receipt = buyer_receipts[0]\n",
    "r = requests.post('http://0.0.0.0:8010/request_return',\n",
    "                  json = {'transaction_hash':current_receipt['transaction_hash']})\n",
    "r.json()"
   ]
  },
  {
   "cell_type": "code",
   "execution_count": 177,
   "id": "efd33a80-22a0-457f-a512-ed7d65ddc21f",
   "metadata": {},
   "outputs": [
    {
     "data": {
      "text/plain": [
       "{'success': True,\n",
       " 'all_receipts': [{'item_name': 'One Piece Cards',\n",
       "   'seller_address': '0x1BEC335E19c7e6685128149A61FDB40C4683C4F5',\n",
       "   'status': 'Active',\n",
       "   'amount': 0.2,\n",
       "   'block_number': 6,\n",
       "   'seller_contract_address': '0xbaE5A4E5732E0b5bA773f94F875C73B5c5c67B8B',\n",
       "   'transaction_hash': 'b320e73840b663433e72f079bf736c84baf67ed4cfab046ad9901487902a68fb',\n",
       "   'receipt_index': 0,\n",
       "   'buyer_address': '0x6C766E67fF42864F3EEeFEcED19119F993876707',\n",
       "   'purchase_time': '2024-11-12 15:51:41'}]}"
      ]
     },
     "execution_count": 177,
     "metadata": {},
     "output_type": "execute_result"
    }
   ],
   "source": [
    "r = requests.post('http://0.0.0.0:8010/get_seller_receipts',\n",
    "                  json = {'seller_address':seller_address})\n",
    "seller_receipts = r.json()\n",
    "seller_receipts"
   ]
  },
  {
   "cell_type": "code",
   "execution_count": 178,
   "id": "d296ddc0-ce57-44c5-bbbf-fe6549cebd81",
   "metadata": {},
   "outputs": [
    {
     "data": {
      "text/plain": [
       "{'success': True,\n",
       " 'release_return_details': \"{'transaction_hash': '2fd0c902bc9c81b4c0f1d0c253bdc7500c9b22537c53f7bdcd6c26f8997e9eea', 'status': 'Success', 'transaction_receipt': AttributeDict({'transactionHash': HexBytes('0x2fd0c902bc9c81b4c0f1d0c253bdc7500c9b22537c53f7bdcd6c26f8997e9eea'), 'transactionIndex': 0, 'blockNumber': 8, 'blockHash': HexBytes('0x40d9d754e21f81f48e5c8c030c8ad2a3b6973829fc986d9a70f626bebeb2cac5'), 'from': '0x1BEC335E19c7e6685128149A61FDB40C4683C4F5', 'to': '0xbaE5A4E5732E0b5bA773f94F875C73B5c5c67B8B', 'cumulativeGasUsed': 65156, 'gasUsed': 65156, 'contractAddress': None, 'logs': [AttributeDict({'address': '0xbaE5A4E5732E0b5bA773f94F875C73B5c5c67B8B', 'blockHash': HexBytes('0x40d9d754e21f81f48e5c8c030c8ad2a3b6973829fc986d9a70f626bebeb2cac5'), 'blockNumber': 8, 'data': HexBytes('0x00000000000000000000000000000000000000000000000002c68af0bb1400000000000000000000000000000000000000000000000000000000000000000000'), 'logIndex': 0, 'removed': False, 'topics': [HexBytes('0xc90c76155d237557f9162f07cd0da2ff40418cd82028c0e89535270fb9de5104'), HexBytes('0x0000000000000000000000001bec335e19c7e6685128149a61fdb40c4683c4f5')], 'transactionHash': HexBytes('0x2fd0c902bc9c81b4c0f1d0c253bdc7500c9b22537c53f7bdcd6c26f8997e9eea'), 'transactionIndex': 0})], 'logsBloom': HexBytes('0x00000001000000000000000000000000000000008000000000000000000000000000000000000000000000000000000000000000000000000000000000000000000000000000000000000000000000000000000000000400000000000000000000000000000000000000000000000000000000000000000000000000000000000000000000000000000000000000000000000000000020000200010800000000000000000000000000000000000000000080000000000000000000000000000000000000000000800000000000000000000000000000000000000000000000000000000000000000000000000000000000000000000000000000000000000000'), 'status': 1, 'effectiveGasPrice': 449948284, 'type': 2})}\"}"
      ]
     },
     "execution_count": 178,
     "metadata": {},
     "output_type": "execute_result"
    }
   ],
   "source": [
    "seller_receipts = buyer_receipts[0]\n",
    "r = requests.post('http://0.0.0.0:8010/release_funds',\n",
    "                  json = {'transaction_hash':current_receipt['transaction_hash']})\n",
    "r.json()"
   ]
  },
  {
   "cell_type": "code",
   "execution_count": 179,
   "id": "c15551fc-b4c7-4ebe-a670-2ba155cdd5e8",
   "metadata": {},
   "outputs": [
    {
     "data": {
      "text/plain": [
       "{'success': True,\n",
       " 'all_receipts': [{'item_name': 'One Piece Cards',\n",
       "   'seller_address': '0x1BEC335E19c7e6685128149A61FDB40C4683C4F5',\n",
       "   'status': 'Funds Released to Seller',\n",
       "   'amount': 0.2,\n",
       "   'block_number': 6,\n",
       "   'seller_contract_address': '0xbaE5A4E5732E0b5bA773f94F875C73B5c5c67B8B',\n",
       "   'transaction_hash': 'b320e73840b663433e72f079bf736c84baf67ed4cfab046ad9901487902a68fb',\n",
       "   'funds_release_time': 1731426782.015963,\n",
       "   'receipt_index': 0,\n",
       "   'buyer_address': '0x6C766E67fF42864F3EEeFEcED19119F993876707',\n",
       "   'purchase_time': '2024-11-12 15:51:41'}]}"
      ]
     },
     "execution_count": 179,
     "metadata": {},
     "output_type": "execute_result"
    }
   ],
   "source": [
    "r = requests.post('http://0.0.0.0:8010/get_seller_receipts',\n",
    "                  json = {'seller_address':seller_address})\n",
    "seller_receipts = r.json()\n",
    "seller_receipts"
   ]
  },
  {
   "cell_type": "code",
   "execution_count": 180,
   "id": "db720a1a-d99e-4752-b94f-fcbbbe04a3f1",
   "metadata": {},
   "outputs": [
    {
     "data": {
      "text/plain": [
       "{'detail': '500: Funds already released'}"
      ]
     },
     "execution_count": 180,
     "metadata": {},
     "output_type": "execute_result"
    }
   ],
   "source": [
    "seller_receipts = buyer_receipts[0]\n",
    "r = requests.post('http://0.0.0.0:8010/release_funds',\n",
    "                  json = {'transaction_hash':current_receipt['transaction_hash']})\n",
    "r.json()"
   ]
  },
  {
   "cell_type": "code",
   "execution_count": null,
   "id": "b9d5c0eb-ab74-40bf-ab86-b73fa81d18bd",
   "metadata": {},
   "outputs": [],
   "source": []
  }
 ],
 "metadata": {
  "kernelspec": {
   "display_name": "Python 3 (ipykernel)",
   "language": "python",
   "name": "python3"
  },
  "language_info": {
   "codemirror_mode": {
    "name": "ipython",
    "version": 3
   },
   "file_extension": ".py",
   "mimetype": "text/x-python",
   "name": "python",
   "nbconvert_exporter": "python",
   "pygments_lexer": "ipython3",
   "version": "3.9.18"
  }
 },
 "nbformat": 4,
 "nbformat_minor": 5
}
