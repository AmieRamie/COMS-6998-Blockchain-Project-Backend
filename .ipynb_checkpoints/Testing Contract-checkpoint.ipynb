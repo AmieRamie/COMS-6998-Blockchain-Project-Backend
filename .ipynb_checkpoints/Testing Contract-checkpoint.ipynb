{
 "cells": [
  {
   "cell_type": "code",
   "execution_count": 101,
   "id": "cbd3c7c4-4999-4a11-a22b-f555c73e62a7",
   "metadata": {},
   "outputs": [],
   "source": [
    "from web3 import Web3\n",
    "from web3.exceptions import ContractLogicError, Web3RPCError\n",
    "import json\n",
    "from datetime import datetime\n",
    "import boto3\n",
    "from botocore.exceptions import ClientError\n",
    "from decimal import Decimal"
   ]
  },
  {
   "cell_type": "code",
   "execution_count": 208,
   "id": "ed72c2e5-5091-4ea5-8217-73038aeb5e0b",
   "metadata": {},
   "outputs": [],
   "source": [
    "def create_receipts_table(table_name):\n",
    "    try:\n",
    "        # Check if the table already exists\n",
    "        table = dynamodb.Table(table_name)\n",
    "        table.load()  # This will raise an error if the table does not exist\n",
    "        print(f\"Table '{table_name}' already exists.\")\n",
    "    except ClientError as e:\n",
    "        # If the table doesn't exist, a ResourceNotFoundException will be raised\n",
    "        if e.response['Error']['Code'] == 'ResourceNotFoundException':\n",
    "            # Create the table if it does not exist\n",
    "            table = dynamodb.create_table(\n",
    "                TableName=table_name,\n",
    "                KeySchema=[\n",
    "                    {\n",
    "                        'AttributeName': 'transaction_hash',\n",
    "                        'KeyType': 'HASH'  # Partition key\n",
    "                    }\n",
    "                ],\n",
    "                AttributeDefinitions=[\n",
    "                    {\n",
    "                        'AttributeName': 'transaction_hash',\n",
    "                        'AttributeType': 'S'  # String type\n",
    "                    }\n",
    "                ],\n",
    "                ProvisionedThroughput={\n",
    "                    'ReadCapacityUnits': 5,\n",
    "                    'WriteCapacityUnits': 5\n",
    "                }\n",
    "            )\n",
    "            # Wait until the table exists\n",
    "            table.meta.client.get_waiter('table_exists').wait(TableName=table_name)\n",
    "            print(f\"Table '{table_name}' created successfully.\")\n",
    "        else:\n",
    "            # Handle other errors\n",
    "            print(\"Error creating table:\", e.response['Error']['Message'])"
   ]
  },
  {
   "cell_type": "code",
   "execution_count": 209,
   "id": "5f0787a8-e69a-4cb4-bbb7-d22d108d1cd6",
   "metadata": {},
   "outputs": [
    {
     "name": "stdout",
     "output_type": "stream",
     "text": [
      "Table 'Receipts' created successfully.\n"
     ]
    }
   ],
   "source": [
    "dynamodb = boto3.resource('dynamodb', region_name='us-east-2')\n",
    "create_receipts_table('Receipts')"
   ]
  },
  {
   "cell_type": "code",
   "execution_count": 84,
   "id": "4c5043fb-a1d8-47c5-b46a-1bcb3af8333e",
   "metadata": {},
   "outputs": [],
   "source": [
    "class ReceiptManager:\n",
    "    def __init__(self,table_name):\n",
    "        self.dynamodb = boto3.resource('dynamodb', region_name='us-west-2')\n",
    "        create_receipts_table(table_name)\n",
    "        self.table = self.dynamodb.Table(table_name)\n",
    "\n",
    "    def insert_receipt(self, receipt_details):\n",
    "        \"\"\"Inserts a new receipt record in DynamoDB.\"\"\"\n",
    "        try:\n",
    "            if 'amount' in receipt_details:\n",
    "                receipt_details['amount'] = Decimal(str(receipt_details['amount']))\n",
    "            \n",
    "            # Insert the record, only if transaction_hash doesn't already exist\n",
    "            response = self.table.put_item(\n",
    "                Item=receipt_details\n",
    "            )\n",
    "            print(\"Data saved successfully:\", response)\n",
    "        except ClientError as e:\n",
    "            print(\"Error saving data to DynamoDB:\", e.response['Error']['Message'])\n",
    "\n",
    "    def search_by_transaction_id(self, transaction_id):\n",
    "        \"\"\"Searches for a receipt by transaction ID (primary key).\"\"\"\n",
    "        try:\n",
    "            response = self.table.get_item(Key={'transaction_hash': transaction_id})\n",
    "            return response.get('Item')\n",
    "        except ClientError as e:\n",
    "            print(f\"Failed to retrieve receipt: {e.response['Error']['Message']}\")\n",
    "            return None\n",
    "\n",
    "    def search_by_buyer_address(self, buyer_address, filter_by=None, sort_by=None, ascending=True):\n",
    "        \"\"\"Searches receipts by buyer address with optional filtering and sorting.\"\"\"\n",
    "        return self._search_by_attribute('buyer_address', buyer_address, filter_by, sort_by, ascending)\n",
    "\n",
    "    def search_by_seller_address(self, seller_address, filter_by=None, sort_by=None, ascending=True):\n",
    "        \"\"\"Searches receipts by seller address with optional filtering and sorting.\"\"\"\n",
    "        return self._search_by_attribute('seller_contract_address', seller_address, filter_by, sort_by, ascending)\n",
    "\n",
    "    def _search_by_attribute(self, attribute, value, filter_by=None, sort_by=None, ascending=True):\n",
    "        \"\"\"Internal method to search by a specific attribute (buyer or seller) with filtering and sorting.\"\"\"\n",
    "        try:\n",
    "            # Query using the specified attribute\n",
    "            response = self.table.scan(\n",
    "                FilterExpression=boto3.dynamodb.conditions.Attr(attribute).eq(value)\n",
    "            )\n",
    "            items = response.get('Items', [])\n",
    "            \n",
    "            # Filter items if a filter criterion is provided\n",
    "            if filter_by:\n",
    "                if 'amount' in filter_by:\n",
    "                    amount_filter = Decimal(str(filter_by['amount']))\n",
    "                    items = [item for item in items if item['amount'] == amount_filter]\n",
    "                if 'purchase_time' in filter_by:\n",
    "                    items = [item for item in items if item['purchase_time'] == filter_by['purchase_time']]\n",
    "\n",
    "            # Sort items if a sorting criterion is provided\n",
    "            if sort_by:\n",
    "                reverse_order = not ascending\n",
    "                if sort_by == 'amount':\n",
    "                    items.sort(key=lambda x: x['amount'], reverse=reverse_order)\n",
    "                elif sort_by == 'purchase_time':\n",
    "                    items.sort(key=lambda x: x['purchase_time'], reverse=reverse_order)\n",
    "            \n",
    "            return items\n",
    "        except ClientError as e:\n",
    "            print(f\"Failed to search receipts: {e.response['Error']['Message']}\")\n",
    "            return None\n",
    "    def get_all_transactions(self,max_number_of_pages = 5):\n",
    "        \"\"\"Retrieves all transactions from the DynamoDB table.\"\"\"\n",
    "        try:\n",
    "            # Initialize an empty list to store all transactions\n",
    "            transactions = []\n",
    "\n",
    "            # Use the scan operation to retrieve all items\n",
    "            response = self.table.scan()\n",
    "\n",
    "            # Append the first batch of items to the list\n",
    "            transactions.extend(response.get('Items', []))\n",
    "\n",
    "            # Continue fetching if there are more items\n",
    "            page = 1\n",
    "            while 'LastEvaluatedKey' in response:\n",
    "                if page>max_number_of_pages:\n",
    "                    break\n",
    "                response = self.table.scan(ExclusiveStartKey=response['LastEvaluatedKey'])\n",
    "                transactions.extend(response.get('Items', []))\n",
    "                page+=1\n",
    "                \n",
    "            print(f\"Retrieved {len(transactions)} transactions.\")\n",
    "            return transactions\n",
    "        except ClientError as e:\n",
    "            print(f\"Error retrieving transactions: {e.response['Error']['Message']}\")\n",
    "            return None"
   ]
  },
  {
   "cell_type": "code",
   "execution_count": 85,
   "id": "4ab64d21-be64-4406-9b70-21a3ef4554a3",
   "metadata": {},
   "outputs": [
    {
     "name": "stdout",
     "output_type": "stream",
     "text": [
      "Table 'Receipts' already exists.\n"
     ]
    }
   ],
   "source": [
    "receipt_Dynamo_DB = ReceiptManager('Receipts')"
   ]
  },
  {
   "cell_type": "code",
   "execution_count": 175,
   "id": "60eb7594-0c2a-4ed7-8870-ee753b9a0ade",
   "metadata": {},
   "outputs": [],
   "source": [
    "ganache_url = \"http://127.0.0.1:8545\"  # Default Ganache URL\n",
    "web3 = Web3(Web3.HTTPProvider(ganache_url))"
   ]
  },
  {
   "cell_type": "code",
   "execution_count": 176,
   "id": "757d2096-edaa-4235-9d7c-6467c5e09548",
   "metadata": {},
   "outputs": [],
   "source": [
    "assert web3.is_connected()"
   ]
  },
  {
   "cell_type": "code",
   "execution_count": 177,
   "id": "c0262d1d-be11-41fc-a919-88e10b00e9ee",
   "metadata": {},
   "outputs": [],
   "source": [
    "# contract_address = \"0xb79b707E68b8e7c06A3da63f17658C108f23Fbd5\"  # Replace with your deployed contract address\n",
    "with open(\"build/contracts/ReceiptManager.json\") as f:\n",
    "    contract_json = json.load(f)\n",
    "    contract_abi = contract_json[\"abi\"]\n",
    "    contract_bytecode = contract_json[\"bytecode\"]"
   ]
  },
  {
   "cell_type": "code",
   "execution_count": 11,
   "id": "a3408849-ff8b-4ab7-97f0-1a8e8c153b02",
   "metadata": {},
   "outputs": [],
   "source": [
    "def issue_receipt(contract_address, seller_address, buyer_address, amount_eth):\n",
    "    \"\"\"Issues a receipt for the given buyer address and amount (in Ether) using a specific contract.\"\"\"\n",
    "    # Convert amount to Wei, since Ether is the base unit in web3.py\n",
    "    amount_wei = web3.to_wei(amount_eth, 'ether')\n",
    "    \n",
    "    # Create a contract instance for the specific seller's contract address\n",
    "    seller_contract = web3.eth.contract(address=contract_address, abi=contract_abi)\n",
    "    \n",
    "    # Send the transaction to the contract's issueReceipt function\n",
    "    tx_hash = seller_contract.functions.issueReceipt(buyer_address).transact({\n",
    "        'from': seller_address,  # Pass in the seller's address from the API\n",
    "        'value': amount_wei  # The amount to hold in escrow\n",
    "    })\n",
    "    \n",
    "    # Wait for the transaction receipt to confirm\n",
    "    tx_receipt = web3.eth.wait_for_transaction_receipt(tx_hash)\n",
    "\n",
    "    # Retrieve the actual timestamp from the block containing this transaction\n",
    "    block = web3.eth.get_block(tx_receipt['blockNumber'])\n",
    "    purchase_time = datetime.utcfromtimestamp(block['timestamp']).strftime('%Y-%m-%d %H:%M:%S')\n",
    "    \n",
    "    # Retrieve the ReceiptIssued event data from the transaction receipt\n",
    "    receipt_event = seller_contract.events.ReceiptIssued().process_log(tx_receipt.logs[0])\n",
    "    \n",
    "    # Extract the receiptIndex from the event\n",
    "    receipt_index = receipt_event['args']['receiptIndex']\n",
    "    \n",
    "    # Format the receipt object to return to the frontend\n",
    "    receipt_details = {\n",
    "        \"buyer_address\": buyer_address,\n",
    "        \"seller_address\":seller_address,\n",
    "        \"seller_contract_address\": contract_address,\n",
    "        \"amount\": amount_eth,  # Return amount in Ether for readability\n",
    "        \"purchase_time\":  purchase_time,\n",
    "        \"transaction_hash\": tx_receipt['transactionHash'].hex(),\n",
    "        \"block_number\": tx_receipt['blockNumber'],\n",
    "        \"status\": \"Success\" if tx_receipt['status'] == 1 else \"Failed\",\n",
    "        \"receipt_index\": receipt_index\n",
    "    }\n",
    "    return receipt_details\n"
   ]
  },
  {
   "cell_type": "code",
   "execution_count": 114,
   "id": "fa138c0d-0cde-4a84-b5e0-7eb3275f99c5",
   "metadata": {},
   "outputs": [],
   "source": [
    "def decode_revert_message(error_data):\n",
    "    \"\"\"Decodes the revert reason from the error data.\"\"\"\n",
    "    # Standard error signature for revert reason\n",
    "    if error_data.startswith(\"0x08c379a0\"):\n",
    "        try:\n",
    "            # Decode the hex revert message\n",
    "            revert_reason = Web3.toText(hexstr=error_data[10:]).strip()\n",
    "            return revert_reason\n",
    "        except Exception as e:\n",
    "            return \"Revert reason decoding failed\"\n",
    "    return \"Unknown error\"\n",
    "\n",
    "def request_return(contract_address, buyer_address, receiptIndex):\n",
    "    \"\"\"Request a return for a specific receipt and capture revert reasons if it fails.\"\"\"\n",
    "    # Create a contract instance for the specific seller's contract address\n",
    "    contract = web3.eth.contract(address=contract_address, abi=contract_abi)\n",
    "    try:\n",
    "        tx_hash = contract.functions.requestReturn(receiptIndex).transact({\n",
    "            'from': buyer_address\n",
    "        })\n",
    "        \n",
    "        # Wait for the transaction receipt\n",
    "        tx_receipt = web3.eth.wait_for_transaction_receipt(tx_hash)\n",
    "        \n",
    "        # Return transaction details if successful\n",
    "        return {\n",
    "            \"transaction_hash\": tx_receipt['transactionHash'].hex(),\n",
    "            \"status\": \"Success\" if tx_receipt['status'] == 1 else \"Failed\",\n",
    "            \"transaction_receipt\": tx_receipt\n",
    "        }\n",
    "        \n",
    "    except Web3RPCError as e:\n",
    "        # Decode any unexpected errors during the actual transact call\n",
    "        error_message = eval(e.args[0]).get('message', '')\n",
    "        # error_message = decode_revert_message(error_data)\n",
    "        return {\n",
    "            \"status\": \"Failed\",\n",
    "            \"reason\": error_message\n",
    "        }\n"
   ]
  },
  {
   "cell_type": "code",
   "execution_count": 198,
   "id": "7c56562f-c645-45b4-8e44-fffa8dfa1d18",
   "metadata": {},
   "outputs": [],
   "source": [
    "def release_funds(contract_address, buyer_address, receipt_index, seller_address):\n",
    "    \"\"\"Releases funds to the seller after the return window has expired.\"\"\"\n",
    "    contract = web3.eth.contract(address=contract_address, abi=contract_abi)\n",
    "    try:\n",
    "        tx_hash = contract.functions.releaseFunds(buyer_address, receipt_index).transact({\n",
    "            'from': seller_address\n",
    "        })\n",
    "    \n",
    "        # Wait for the transaction receipt\n",
    "        tx_receipt = web3.eth.wait_for_transaction_receipt(tx_hash)\n",
    "        \n",
    "        return {\n",
    "            \"transaction_hash\": tx_receipt['transactionHash'].hex(),\n",
    "            \"status\": \"Success\" if tx_receipt['status'] == 1 else \"Failed\",\n",
    "            \"transaction_receipt\": tx_receipt\n",
    "        }\n",
    "    except ContractLogicError as e:\n",
    "        # Decode any unexpected errors during the actual transact call\n",
    "        print(e.args[1])\n",
    "        error_message = e.args[1].get('reason', '')\n",
    "        # error_message = decode_revert_message(error_data)\n",
    "        return {\n",
    "            \"status\": \"Failed\",\n",
    "            \"reason\": error_message\n",
    "        }\n"
   ]
  },
  {
   "cell_type": "code",
   "execution_count": 13,
   "id": "6c1b2660-8de6-427a-8d49-b3beff60bff3",
   "metadata": {},
   "outputs": [],
   "source": [
    "def get_receipts(buyer_address):\n",
    "    \"\"\"Fetches all receipts for the given buyer address.\"\"\"\n",
    "    receipts = contract.functions.getReceipts(buyer_address).call()\n",
    "    for i, receipt in enumerate(receipts):\n",
    "        amount, time, refunded = receipt\n",
    "        print(f\"Receipt {i}: Amount - {web3.fromWei(amount, 'ether')} ETH, \"\n",
    "              f\"Time - {time}, Refunded - {refunded}\")"
   ]
  },
  {
   "cell_type": "code",
   "execution_count": 20,
   "id": "0dfb9f2b-862d-4c9d-b87c-0b1e0cd30a2b",
   "metadata": {},
   "outputs": [],
   "source": [
    "def deploy_new_contract(seller_account,return_window_days):\n",
    "    \"\"\"Deploy a new instance of the ReceiptManager contract and return the address.\"\"\"\n",
    "    ReceiptManager = web3.eth.contract(abi=contract_abi, bytecode=contract_bytecode)\n",
    "    tx_hash = ReceiptManager.constructor(return_window_days).transact({'from': seller_account})\n",
    "    tx_receipt = web3.eth.wait_for_transaction_receipt(tx_hash)\n",
    "    return tx_receipt.contractAddress"
   ]
  },
  {
   "cell_type": "code",
   "execution_count": 200,
   "id": "c3111e85-9593-48f4-b472-aa584f1431f8",
   "metadata": {},
   "outputs": [],
   "source": [
    "seller_address = web3.eth.accounts[1]\n",
    "new_contract_seller_address = deploy_new_contract(seller_address,30)\n",
    "buyer_address = web3.eth.accounts[2]"
   ]
  },
  {
   "cell_type": "code",
   "execution_count": 201,
   "id": "888f6651-b832-4b4b-929f-ad2b1fd7336c",
   "metadata": {},
   "outputs": [
    {
     "name": "stderr",
     "output_type": "stream",
     "text": [
      "/var/folders/54/86chlskx09z1cnlrwbx1g6g00000gp/T/ipykernel_72685/741312120.py:20: DeprecationWarning: datetime.datetime.utcfromtimestamp() is deprecated and scheduled for removal in a future version. Use timezone-aware objects to represent datetimes in UTC: datetime.datetime.fromtimestamp(timestamp, datetime.UTC).\n",
      "  purchase_time = datetime.utcfromtimestamp(block['timestamp']).strftime('%Y-%m-%d %H:%M:%S')\n"
     ]
    }
   ],
   "source": [
    "receipt_event = issue_receipt(new_contract_seller_address, seller_address, buyer_address, 0.1)  # Issue receipt for 0.1 Ether"
   ]
  },
  {
   "cell_type": "code",
   "execution_count": 202,
   "id": "7ffe3717-306a-4ce8-84e9-bc7f00ab1773",
   "metadata": {},
   "outputs": [],
   "source": [
    "receipt_event['item'] = 'Pokemon Cards'"
   ]
  },
  {
   "cell_type": "code",
   "execution_count": 203,
   "id": "1aa365e0-3c63-4b3e-85e4-c0f1995cbe50",
   "metadata": {},
   "outputs": [
    {
     "data": {
      "text/plain": [
       "{'buyer_address': '0xcB3499c000B47eFE68f20f21192Cd5D2C6eB11aA',\n",
       " 'seller_address': '0x11BF9919dFA4430732d5EB61Af52C2D4a1eF0b7F',\n",
       " 'seller_contract_address': '0xC98fE629D682bd826218785f43F128579dC4b8b1',\n",
       " 'amount': 0.1,\n",
       " 'purchase_time': '2024-11-11 17:30:32',\n",
       " 'transaction_hash': 'd5aec6cdda1b9d1bac611fb646368b42d170a814b9b59a11a645351d069efc8a',\n",
       " 'block_number': 19,\n",
       " 'status': 'Success',\n",
       " 'receipt_index': 0,\n",
       " 'item': 'Pokemon Cards'}"
      ]
     },
     "execution_count": 203,
     "metadata": {},
     "output_type": "execute_result"
    }
   ],
   "source": [
    "receipt_event"
   ]
  },
  {
   "cell_type": "code",
   "execution_count": 154,
   "id": "0639e34c-acbf-4b40-b63b-bf9f5b68c590",
   "metadata": {
    "scrolled": true
   },
   "outputs": [
    {
     "name": "stdout",
     "output_type": "stream",
     "text": [
      "Data saved successfully: {'ResponseMetadata': {'RequestId': 'RR4DRSBDV4SFHPU54UJL60CD27VV4KQNSO5AEMVJF66Q9ASUAAJG', 'HTTPStatusCode': 200, 'HTTPHeaders': {'server': 'Server', 'date': 'Mon, 11 Nov 2024 16:53:52 GMT', 'content-type': 'application/x-amz-json-1.0', 'content-length': '2', 'connection': 'keep-alive', 'x-amzn-requestid': 'RR4DRSBDV4SFHPU54UJL60CD27VV4KQNSO5AEMVJF66Q9ASUAAJG', 'x-amz-crc32': '2745614147'}, 'RetryAttempts': 0}}\n"
     ]
    }
   ],
   "source": [
    "receipt_Dynamo_DB.insert_receipt(receipt_event)"
   ]
  },
  {
   "cell_type": "code",
   "execution_count": 204,
   "id": "844fed34-7edf-4bf3-8a2d-f3c983c5fcd5",
   "metadata": {},
   "outputs": [
    {
     "data": {
      "text/plain": [
       "{'transaction_hash': 'df0e9e6d0141cc916bf3d64da865049dd3c96fd9e7f7eb829dfb6406cb26ea29',\n",
       " 'status': 'Success',\n",
       " 'transaction_receipt': AttributeDict({'transactionHash': HexBytes('0xdf0e9e6d0141cc916bf3d64da865049dd3c96fd9e7f7eb829dfb6406cb26ea29'),\n",
       "  'transactionIndex': 0,\n",
       "  'blockNumber': 20,\n",
       "  'blockHash': HexBytes('0x90b95caf1b2c4f6e5c315447aeb487ea7e3a153f8ec6cf03f4b8412eba673245'),\n",
       "  'from': '0xcB3499c000B47eFE68f20f21192Cd5D2C6eB11aA',\n",
       "  'to': '0xC98fE629D682bd826218785f43F128579dC4b8b1',\n",
       "  'cumulativeGasUsed': 61583,\n",
       "  'gasUsed': 61583,\n",
       "  'contractAddress': None,\n",
       "  'logs': [AttributeDict({'address': '0xC98fE629D682bd826218785f43F128579dC4b8b1',\n",
       "    'blockHash': HexBytes('0x90b95caf1b2c4f6e5c315447aeb487ea7e3a153f8ec6cf03f4b8412eba673245'),\n",
       "    'blockNumber': 20,\n",
       "    'data': HexBytes('0x000000000000000000000000000000000000000000000000016345785d8a0000'),\n",
       "    'logIndex': 0,\n",
       "    'removed': False,\n",
       "    'topics': [HexBytes('0xa171b6942063c6f2800ce40a780edce37baa2b618571b11eedd1e69e626e7d76'),\n",
       "     HexBytes('0x000000000000000000000000cb3499c000b47efe68f20f21192cd5d2c6eb11aa')],\n",
       "    'transactionHash': HexBytes('0xdf0e9e6d0141cc916bf3d64da865049dd3c96fd9e7f7eb829dfb6406cb26ea29'),\n",
       "    'transactionIndex': 0})],\n",
       "  'logsBloom': HexBytes('0x00000000010000000000000000000000000000000000000000100000000000000000000000000000000000000000000000000000000002000000000000000000000000000000000000000000000000000000000000000000000000000000000000000000000000000000100008000000000000000000000000000000000000000000000000800000000000000000000000000000000000000000000000000004000000000001000000000000000000000000200000000000000000000000000000000000000000000000000000000000000000000000000000000000000000000000000000000000000000000000000000000000000000000000000000000000'),\n",
       "  'status': 1,\n",
       "  'effectiveGasPrice': 92944274,\n",
       "  'type': 2})}"
      ]
     },
     "execution_count": 204,
     "metadata": {},
     "output_type": "execute_result"
    }
   ],
   "source": [
    "request_return(new_contract_seller_address, buyer_address, receipt_event['receipt_index'])"
   ]
  },
  {
   "cell_type": "code",
   "execution_count": 206,
   "id": "ce198bb1-f29e-45ef-a1cc-c429cddf0334",
   "metadata": {},
   "outputs": [
    {
     "name": "stdout",
     "output_type": "stream",
     "text": [
      "{'hash': None, 'programCounter': 2122, 'result': '0x08c379a000000000000000000000000000000000000000000000000000000000000000200000000000000000000000000000000000000000000000000000000000000015526566756e6420616c7265616479206973737565640000000000000000000000', 'reason': 'Refund already issued', 'message': 'revert'}\n"
     ]
    },
    {
     "data": {
      "text/plain": [
       "{'status': 'Failed', 'reason': 'Refund already issued'}"
      ]
     },
     "execution_count": 206,
     "metadata": {},
     "output_type": "execute_result"
    }
   ],
   "source": [
    "release_funds(new_contract_seller_address, buyer_address,0, seller_address)"
   ]
  },
  {
   "cell_type": "code",
   "execution_count": 188,
   "id": "02d449e6-5dd8-4dcc-adf2-d4f27f6cbc14",
   "metadata": {},
   "outputs": [
    {
     "name": "stdout",
     "output_type": "stream",
     "text": [
      "Contract Balance: 0.1 ETH\n"
     ]
    }
   ],
   "source": [
    "balance_wei = web3.eth.get_balance(new_contract_seller_address)\n",
    "\n",
    "# Convert the balance to Ether for easier readability\n",
    "balance_eth = web3.from_wei(balance_wei, 'ether')\n",
    "\n",
    "print(f\"Contract Balance: {balance_eth} ETH\")"
   ]
  },
  {
   "cell_type": "code",
   "execution_count": 164,
   "id": "92368546-a0ba-4cf8-a2a2-3c56e132902e",
   "metadata": {},
   "outputs": [
    {
     "name": "stdout",
     "output_type": "stream",
     "text": [
      "Account: 0x3464a4170E325A9D167c81DA05a52e38a599152e, Balance: 999.99625274425 ETH\n",
      "Account: 0x11BF9919dFA4430732d5EB61Af52C2D4a1eF0b7F, Balance: 999.998833604677419455 ETH\n",
      "Account: 0xcB3499c000B47eFE68f20f21192Cd5D2C6eB11aA, Balance: 999.99997816719578725 ETH\n",
      "Account: 0xd6D48d38Ab8DE1cf4b50Cc0711194429F5909177, Balance: 1000 ETH\n",
      "Account: 0x01Ba933f0D57655F6f6604b1DbdfcBcD21AF816A, Balance: 1000 ETH\n",
      "Account: 0xf05C042BEAAC9C702bEd36ab5a58EF4C22e5cD80, Balance: 1000 ETH\n",
      "Account: 0x140f1bc6A926600C2185569EE69907A8a0932BD2, Balance: 1000 ETH\n",
      "Account: 0x6fde945dDb2F08043185f2b903453a2360fcAAEb, Balance: 1000 ETH\n",
      "Account: 0x91AcEE24ab5060eb0288218bCc08c237CbcCAde2, Balance: 1000 ETH\n",
      "Account: 0x89e5F862d031EF15B96F29BC97218fbbdedb2D26, Balance: 1000 ETH\n"
     ]
    }
   ],
   "source": [
    "if web3.is_connected():\n",
    "    # Retrieve all accounts from Ganache\n",
    "    accounts = web3.eth.accounts\n",
    "\n",
    "    # Print each account's address and balance in Ether\n",
    "    for account in accounts:\n",
    "        balance_wei = web3.eth.get_balance(account)\n",
    "        balance_eth = web3.from_wei(balance_wei, 'ether')\n",
    "        print(f\"Account: {account}, Balance: {balance_eth} ETH\")\n",
    "else:\n",
    "    print(\"Unable to connect to Ganache.\")"
   ]
  },
  {
   "cell_type": "code",
   "execution_count": 140,
   "id": "4994f181-8288-4e06-a0ca-91166d3e2f4d",
   "metadata": {},
   "outputs": [
    {
     "name": "stdout",
     "output_type": "stream",
     "text": [
      "Account: 0x0C90B7621B2612eBf9878d5fBe6fF6dBD59E4Dc1, Balance: 998.389343328421023422 ETH\n",
      "Account: 0x2e8D66b49c5B43FDBB20A07241e0Bb0d5034A70E, Balance: 1000.299938018684217243 ETH\n",
      "Account: 0x16507711f524a1786618806e10c26eD33e8763d5, Balance: 999.99999906182382574 ETH\n",
      "Account: 0x0118B2Db37Cd89Ab33E32200b531F29477AEF76E, Balance: 1000 ETH\n",
      "Account: 0xaA48F1f2e2BDEAD76ea577AF9f257074f007D77D, Balance: 1000 ETH\n",
      "Account: 0x61b985ED2d281C637C5A25cc30551d9E88C5aB5E, Balance: 1000 ETH\n",
      "Account: 0x5Fe8EE86a80Fca6615E0491C44154b37f73B1F03, Balance: 1000 ETH\n",
      "Account: 0x3354Dd0F14fDEF858143c537213067b4e5DAceC0, Balance: 1000 ETH\n",
      "Account: 0xC64120afDE5d27Ed6a98a0d9D103B387dAf7ad73, Balance: 1000 ETH\n",
      "Account: 0x6D7B14A9B5D7891529ecB4390aC60d07cBf70025, Balance: 1000 ETH\n"
     ]
    }
   ],
   "source": [
    "if web3.is_connected():\n",
    "    # Retrieve all accounts from Ganache\n",
    "    accounts = web3.eth.accounts\n",
    "\n",
    "    # Print each account's address and balance in Ether\n",
    "    for account in accounts:\n",
    "        balance_wei = web3.eth.get_balance(account)\n",
    "        balance_eth = web3.from_wei(balance_wei, 'ether')\n",
    "        print(f\"Account: {account}, Balance: {balance_eth} ETH\")\n",
    "else:\n",
    "    print(\"Unable to connect to Ganache.\")"
   ]
  },
  {
   "cell_type": "code",
   "execution_count": null,
   "id": "d88f9c4a-a4a5-42ca-b968-6b37939d0732",
   "metadata": {},
   "outputs": [],
   "source": [
    "all_transactions = receipt_Dynamo_DB.get_all_transactions()"
   ]
  },
  {
   "cell_type": "code",
   "execution_count": 82,
   "id": "b75a822a-0d4b-4c7c-ab10-3b2d2f03f7f0",
   "metadata": {},
   "outputs": [
    {
     "data": {
      "text/plain": [
       "[{'seller_address': '0x0C90B7621B2612eBf9878d5fBe6fF6dBD59E4Dc1',\n",
       "  'status': 'Success',\n",
       "  'amount': Decimal('0.1'),\n",
       "  'block_number': Decimal('20'),\n",
       "  'seller_contract_address': '0x5EF56BC1916988924Fd3cA6a459d3d02fD5E24b5',\n",
       "  'transaction_hash': '384836f210ab8086150871c8ccc46cd53d3e831508c680679841ebd4bf342d89',\n",
       "  'item': 'Pokemon Cards',\n",
       "  'receipt_index': Decimal('1'),\n",
       "  'buyer_address': '0x2e8D66b49c5B43FDBB20A07241e0Bb0d5034A70E',\n",
       "  'purchase_time': '2024-11-10 21:42:10'},\n",
       " {'seller_address': '0x0C90B7621B2612eBf9878d5fBe6fF6dBD59E4Dc1',\n",
       "  'status': 'Success',\n",
       "  'amount': Decimal('0.1'),\n",
       "  'block_number': Decimal('19'),\n",
       "  'seller_contract_address': '0x5EF56BC1916988924Fd3cA6a459d3d02fD5E24b5',\n",
       "  'transaction_hash': 'd7a1128997554491157753f05186ac421e6f99a0fd149774c0e11db819069424',\n",
       "  'receipt_index': Decimal('0'),\n",
       "  'buyer_address': '0x2e8D66b49c5B43FDBB20A07241e0Bb0d5034A70E',\n",
       "  'purchase_time': '2024-11-10 21:14:40'}]"
      ]
     },
     "execution_count": 82,
     "metadata": {},
     "output_type": "execute_result"
    }
   ],
   "source": [
    "all_transactions"
   ]
  },
  {
   "cell_type": "code",
   "execution_count": 59,
   "id": "54978e29-0225-48a8-a7f2-5a8590e02ba2",
   "metadata": {},
   "outputs": [
    {
     "data": {
      "text/plain": [
       "[{'seller_address': '0x0C90B7621B2612eBf9878d5fBe6fF6dBD59E4Dc1',\n",
       "  'status': 'Success',\n",
       "  'amount': Decimal('0.1'),\n",
       "  'block_number': Decimal('19'),\n",
       "  'seller_contract_address': '0x5EF56BC1916988924Fd3cA6a459d3d02fD5E24b5',\n",
       "  'transaction_hash': 'd7a1128997554491157753f05186ac421e6f99a0fd149774c0e11db819069424',\n",
       "  'receipt_index': Decimal('0'),\n",
       "  'buyer_address': '0x2e8D66b49c5B43FDBB20A07241e0Bb0d5034A70E',\n",
       "  'purchase_time': '2024-11-10 21:14:40'}]"
      ]
     },
     "execution_count": 59,
     "metadata": {},
     "output_type": "execute_result"
    }
   ],
   "source": [
    "all_transactions"
   ]
  },
  {
   "cell_type": "code",
   "execution_count": null,
   "id": "bf871783-4bd5-44db-8eee-7c31459402eb",
   "metadata": {},
   "outputs": [],
   "source": []
  }
 ],
 "metadata": {
  "kernelspec": {
   "display_name": "Python 3 (ipykernel)",
   "language": "python",
   "name": "python3"
  },
  "language_info": {
   "codemirror_mode": {
    "name": "ipython",
    "version": 3
   },
   "file_extension": ".py",
   "mimetype": "text/x-python",
   "name": "python",
   "nbconvert_exporter": "python",
   "pygments_lexer": "ipython3",
   "version": "3.12.7"
  }
 },
 "nbformat": 4,
 "nbformat_minor": 5
}
